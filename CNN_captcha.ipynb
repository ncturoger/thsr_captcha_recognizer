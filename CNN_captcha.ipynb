{
 "cells": [
  {
   "cell_type": "code",
   "execution_count": 1,
   "metadata": {},
   "outputs": [
    {
     "name": "stderr",
     "output_type": "stream",
     "text": [
      "Using TensorFlow backend.\n"
     ]
    }
   ],
   "source": [
    "import keras\n",
    "from keras.datasets import mnist\n",
    "from keras.models import Sequential, Model\n",
    "from keras.layers import Input, Dense, Dropout, Flatten, Conv2D, MaxPooling2D, BatchNormalization\n",
    "from keras.optimizers import RMSprop\n",
    "from keras import backend as K\n",
    "from keras.callbacks import EarlyStopping\n",
    "K.tensorflow_backend._get_available_gpus()\n",
    "from matplotlib.pyplot import imshow\n",
    "import numpy as np\n",
    "import matplotlib.pyplot as plt\n",
    "from keras.preprocessing.image import array_to_img, img_to_array, load_img\n",
    "import cv2\n",
    "import os\n",
    "from keras.utils import np_utils\n",
    "from tqdm import tqdm, trange\n"
   ]
  },
  {
   "cell_type": "code",
   "execution_count": 2,
   "metadata": {},
   "outputs": [],
   "source": [
    "train_folder_path = \"real_train\"\n",
    "validate_folder_path = \"real_val\"\n",
    "\n",
    "alphabet = '0123456789ABCDEFGHIJKLMNOPQRSTUVWXYZ'\n",
    "alphabet_to_num = dict()\n",
    "num = 0\n",
    "for al in alphabet:\n",
    "    alphabet_to_num[al] = num\n",
    "    num += 1"
   ]
  },
  {
   "cell_type": "code",
   "execution_count": 3,
   "metadata": {},
   "outputs": [],
   "source": [
    "def preprocessing(path):\n",
    "    datas = os.listdir(path)\n",
    "#     processed_data = np.stack([img_to_array(load_img(path + '/' + data).resize((137,51)))/255.0 for data in tqdm(datas)])\n",
    "    processed_data = np.stack([img_to_array(load_img(path + '/' + data).resize((137,51)))/255.0 for data in tqdm(datas)])\n",
    "    return processed_data"
   ]
  },
  {
   "cell_type": "code",
   "execution_count": 4,
   "metadata": {},
   "outputs": [],
   "source": [
    "def get_label(path):\n",
    "    label_data = [[], [], [], []]\n",
    "    datas = os.listdir(path)\n",
    "    for data in tqdm(datas):\n",
    "        label = data.split('.')[0]\n",
    "        for i in range(len(label)):\n",
    "            label_data[i].append(np_utils.to_categorical(alphabet_to_num[label[i]], num_classes=36))\n",
    "\n",
    "    for i in range(len(label_data)):\n",
    "        label_data[i] = np.array(label_data[i])\n",
    "    return label_data"
   ]
  },
  {
   "cell_type": "code",
   "execution_count": 5,
   "metadata": {},
   "outputs": [
    {
     "name": "stdout",
     "output_type": "stream",
     "text": [
      "2001\n",
      "300\n"
     ]
    }
   ],
   "source": [
    "train_datas = os.listdir(train_folder_path)\n",
    "val_datas = os.listdir(validate_folder_path)\n",
    "print(len(train_datas))\n",
    "print(len(val_datas))"
   ]
  },
  {
   "cell_type": "code",
   "execution_count": 13,
   "metadata": {},
   "outputs": [],
   "source": [
    "def data_generator(path):\n",
    "    # Generators for keras must be infinite\n",
    "    datas = os.listdir(path)\n",
    "    iterator = iter(datas)\n",
    "    while True:\n",
    "        data = next(iterator, None)\n",
    "        if not data:\n",
    "            iterator = iter(datas)\n",
    "            data = next(iterator, None)\n",
    "        processed_data = img_to_array(load_img(path + '/' + data).resize((137,51)))/255.0\n",
    "        label = data.split('.')[0]\n",
    "        # Need array shape for (1,36) here\n",
    "        labels = [np.asarray([np_utils.to_categorical(alphabet_to_num[char], num_classes=36)]) for char in label.split('_')[0]]\n",
    "        yield np.asarray([processed_data]), labels\n",
    "    "
   ]
  },
  {
   "cell_type": "code",
   "execution_count": 14,
   "metadata": {},
   "outputs": [
    {
     "ename": "ImportError",
     "evalue": "No module named 'captcha'",
     "output_type": "error",
     "traceback": [
      "\u001b[0;31m---------------------------------------------------------------------------\u001b[0m",
      "\u001b[0;31mImportError\u001b[0m                               Traceback (most recent call last)",
      "\u001b[0;32m<ipython-input-14-462de1eb4d19>\u001b[0m in \u001b[0;36m<module>\u001b[0;34m\u001b[0m\n\u001b[1;32m      6\u001b[0m \u001b[0;32mimport\u001b[0m \u001b[0mnumpy\u001b[0m \u001b[0;32mas\u001b[0m \u001b[0mnp\u001b[0m\u001b[0;34m\u001b[0m\u001b[0m\n\u001b[1;32m      7\u001b[0m \u001b[0;32mimport\u001b[0m \u001b[0mrandom\u001b[0m\u001b[0;34m\u001b[0m\u001b[0m\n\u001b[0;32m----> 8\u001b[0;31m \u001b[0;32mfrom\u001b[0m \u001b[0mcaptcha\u001b[0m\u001b[0;34m.\u001b[0m\u001b[0mimage\u001b[0m \u001b[0;32mimport\u001b[0m \u001b[0mImageCaptcha\u001b[0m\u001b[0;34m\u001b[0m\u001b[0m\n\u001b[0m\u001b[1;32m      9\u001b[0m \u001b[0;32mimport\u001b[0m \u001b[0mstring\u001b[0m\u001b[0;34m\u001b[0m\u001b[0m\n\u001b[1;32m     10\u001b[0m \u001b[0;32mdef\u001b[0m \u001b[0mcust_create_captcha_image\u001b[0m\u001b[0;34m(\u001b[0m\u001b[0mchars\u001b[0m\u001b[0;34m,\u001b[0m \u001b[0mcolor\u001b[0m\u001b[0;34m,\u001b[0m \u001b[0mbackground\u001b[0m\u001b[0;34m,\u001b[0m \u001b[0mwd\u001b[0m\u001b[0;34m,\u001b[0m \u001b[0mhe\u001b[0m\u001b[0;34m)\u001b[0m\u001b[0;34m:\u001b[0m\u001b[0;34m\u001b[0m\u001b[0m\n",
      "\u001b[0;31mImportError\u001b[0m: No module named 'captcha'"
     ]
    }
   ],
   "source": [
    "from PIL import Image\n",
    "from PIL.ImageDraw import Draw\n",
    "from PIL.ImageFont import truetype\n",
    "from PIL import ImageOps\n",
    "import matplotlib.pyplot as plt\n",
    "import numpy as np\n",
    "import random\n",
    "from captcha.image import ImageCaptcha\n",
    "import string\n",
    "def cust_create_captcha_image(chars, color, background, wd, he):\n",
    "        \"\"\"Create the CAPTCHA image itself.\n",
    "        :param chars: text to be generated.\n",
    "        :param color: color of the text.\n",
    "        :param background: color of the background.\n",
    "        The color should be a tuple of 3 numbers, such as (0, 255, 255).\n",
    "        \"\"\" \n",
    "        generator = ImageCaptcha(width=wd, height=he, fonts=['font/BEBAS.ttf'])\n",
    "        \n",
    "        image = Image.new('RGB', (wd, he), background)\n",
    "        draw = Draw(image)\n",
    "\n",
    "        \n",
    "        table  =  []\n",
    "        for  i  in  range( 256 ):\n",
    "            table.append( i * 1.97 )\n",
    "        \n",
    "        def _draw_character(c):\n",
    "            font = truetype('font/BEBAS.ttf', 36)\n",
    "            w, h = draw.textsize(c, font=font)\n",
    "\n",
    "            dx = random.randint(0, 4)\n",
    "            dy = random.randint(0, 6)\n",
    "            im = Image.new('RGB', (w + dx, h + dy))\n",
    "            Draw(im).text((dx, dy), c, font=font, fill=color)\n",
    "\n",
    "#             rotate\n",
    "            im = im.crop(im.getbbox())\n",
    "            im = im.rotate(random.uniform(-15, 15), Image.BILINEAR, expand=1)\n",
    "            return im\n",
    "\n",
    "        images = []\n",
    "        for c in chars:\n",
    "            if random.random() > 0.5:\n",
    "                images.append(_draw_character(\" \"))\n",
    "            images.append(_draw_character(c))\n",
    "            \n",
    "\n",
    "        text_width = sum([im.size[0] for im in images])\n",
    "\n",
    "        width = max(text_width, wd)\n",
    "        image = image.resize((width, he))\n",
    "\n",
    "        average = int(text_width / len(chars))\n",
    "        rand = int(0.25 * average)\n",
    "#         offset = int(average * 0.1)\n",
    "#         print(offset)\n",
    "        offset = rand\n",
    "       \n",
    "    \n",
    "        for im in images:\n",
    "            w, h = im.size\n",
    "            word_h = random.randint(0, int(he - h))\n",
    "            mask = im.convert('L').point(table)\n",
    "#             image.paste(ImageOps.colorize(mask, (0,0,0), (0,0,0)), (offset, int((he - h) / 2)), mask)\n",
    "            image.paste(ImageOps.colorize(mask, (0,0,0), (0,0,0)), (offset, word_h), mask)\n",
    "            offset = offset + w + random.randint(-rand, 0)\n",
    "\n",
    "        if width > wd:\n",
    "            image = image.resize((wd, he))\n",
    "\n",
    "        def create_noise_curve(image, color):\n",
    "            w, h = image.size\n",
    "            points = [-20, 8,140, 40]\n",
    "            start = 180\n",
    "            end = -30\n",
    "            Draw(image).arc(points, start, end, fill=color, width=5)\n",
    "            return image\n",
    "            \n",
    "            \n",
    "        word_img = image\n",
    "        curve_image = Image.new('RGB', (wd, he), \"white\")\n",
    "        image_curve = create_noise_curve(curve_image, \"black\")\n",
    "        pix_curve = np.array(image_curve)\n",
    "        pix_word = np.array(word_img)\n",
    "        \n",
    "        result = pix_word ^ pix_curve\n",
    "        result = ~result \n",
    "        result = result & 211\n",
    "        img = Image.fromarray(np.uint8(result))\n",
    "        \n",
    "        generator.create_noise_dots(img, (0,0,0), width=1, number=50)\n",
    "        generator.create_noise_dots(img, (230,230,230), width=1, number=800)\n",
    "        \n",
    "        \n",
    "        return img"
   ]
  },
  {
   "cell_type": "code",
   "execution_count": 15,
   "metadata": {},
   "outputs": [
    {
     "ename": "ImportError",
     "evalue": "No module named 'captcha'",
     "output_type": "error",
     "traceback": [
      "\u001b[0;31m---------------------------------------------------------------------------\u001b[0m",
      "\u001b[0;31mImportError\u001b[0m                               Traceback (most recent call last)",
      "\u001b[0;32m<ipython-input-15-fbbffb470a98>\u001b[0m in \u001b[0;36m<module>\u001b[0;34m\u001b[0m\n\u001b[0;32m----> 1\u001b[0;31m \u001b[0;32mfrom\u001b[0m \u001b[0mcaptcha\u001b[0m\u001b[0;34m.\u001b[0m\u001b[0mimage\u001b[0m \u001b[0;32mimport\u001b[0m \u001b[0mImageCaptcha\u001b[0m\u001b[0;34m\u001b[0m\u001b[0m\n\u001b[0m\u001b[1;32m      2\u001b[0m \u001b[0;32mimport\u001b[0m \u001b[0mrandom\u001b[0m\u001b[0;34m\u001b[0m\u001b[0m\n\u001b[1;32m      3\u001b[0m \u001b[0;32mimport\u001b[0m \u001b[0mstring\u001b[0m\u001b[0;34m\u001b[0m\u001b[0m\n\u001b[1;32m      4\u001b[0m \u001b[0;34m\u001b[0m\u001b[0m\n\u001b[1;32m      5\u001b[0m \u001b[0mcharacters\u001b[0m \u001b[0;34m=\u001b[0m \u001b[0mstring\u001b[0m\u001b[0;34m.\u001b[0m\u001b[0mdigits\u001b[0m \u001b[0;34m+\u001b[0m \u001b[0mstring\u001b[0m\u001b[0;34m.\u001b[0m\u001b[0mascii_uppercase\u001b[0m\u001b[0;34m\u001b[0m\u001b[0m\n",
      "\u001b[0;31mImportError\u001b[0m: No module named 'captcha'"
     ]
    }
   ],
   "source": [
    "from captcha.image import ImageCaptcha\n",
    "import random\n",
    "import string\n",
    "\n",
    "characters = string.digits + string.ascii_uppercase\n",
    "# width, height, n_len, n_class = 170, 80, 4, len(characters)\n",
    "# generator = ImageCaptcha(width=width, height=height)\n",
    "\n",
    "def data_gen_dynamic(batch_size):\n",
    "#     k = True\n",
    "    while True:\n",
    "        x = []\n",
    "        y = [[],[],[],[]]\n",
    "        for _ in range(batch_size):\n",
    "            random_str = ''.join([random.choice(characters) for j in range(4)])\n",
    "            img = cust_create_captcha_image(random_str, \"white\", \"white\", 137, 51)\n",
    "            x.append(img_to_array(img)/255.0)\n",
    "            for i in range(len(random_str)):\n",
    "                y[i].append(np_utils.to_categorical(alphabet_to_num[random_str[i]], num_classes=36))\n",
    "            \n",
    "            for l in y:\n",
    "                l = np.array(l)\n",
    "                \n",
    "#             y.append([np.asarray([np_utils.to_categorical(alphabet_to_num[char], num_classes=36)]) for char in random_str])\n",
    "#         k = False\n",
    "        yield np.asarray(x), y\n",
    "     "
   ]
  },
  {
   "cell_type": "code",
   "execution_count": 16,
   "metadata": {},
   "outputs": [
    {
     "ename": "NameError",
     "evalue": "name 'data_gen_dynamic' is not defined",
     "output_type": "error",
     "traceback": [
      "\u001b[0;31m---------------------------------------------------------------------------\u001b[0m",
      "\u001b[0;31mNameError\u001b[0m                                 Traceback (most recent call last)",
      "\u001b[0;32m<ipython-input-16-7490b93afd7e>\u001b[0m in \u001b[0;36m<module>\u001b[0;34m\u001b[0m\n\u001b[0;32m----> 1\u001b[0;31m \u001b[0;32mfor\u001b[0m \u001b[0mitem\u001b[0m \u001b[0;32min\u001b[0m \u001b[0mdata_gen_dynamic\u001b[0m\u001b[0;34m(\u001b[0m\u001b[0;36m2\u001b[0m\u001b[0;34m)\u001b[0m\u001b[0;34m:\u001b[0m\u001b[0;34m\u001b[0m\u001b[0m\n\u001b[0m\u001b[1;32m      2\u001b[0m     \u001b[0mprint\u001b[0m\u001b[0;34m(\u001b[0m\u001b[0mitem\u001b[0m\u001b[0;34m.\u001b[0m\u001b[0mshape\u001b[0m\u001b[0;34m)\u001b[0m\u001b[0;34m\u001b[0m\u001b[0m\n",
      "\u001b[0;31mNameError\u001b[0m: name 'data_gen_dynamic' is not defined"
     ]
    }
   ],
   "source": [
    "for item in data_gen_dynamic(2):\n",
    "    print(item.shape)"
   ]
  },
  {
   "cell_type": "code",
   "execution_count": 17,
   "metadata": {},
   "outputs": [
    {
     "name": "stdout",
     "output_type": "stream",
     "text": [
      "__________________________________________________________________________________________________\n",
      "Layer (type)                    Output Shape         Param #     Connected to                     \n",
      "==================================================================================================\n",
      "input_2 (InputLayer)            (None, 51, 137, 3)   0                                            \n",
      "__________________________________________________________________________________________________\n",
      "conv2d_8 (Conv2D)               (None, 51, 137, 32)  896         input_2[0][0]                    \n",
      "__________________________________________________________________________________________________\n",
      "conv2d_9 (Conv2D)               (None, 49, 135, 32)  9248        conv2d_8[0][0]                   \n",
      "__________________________________________________________________________________________________\n",
      "batch_normalization_5 (BatchNor (None, 49, 135, 32)  128         conv2d_9[0][0]                   \n",
      "__________________________________________________________________________________________________\n",
      "max_pooling2d_5 (MaxPooling2D)  (None, 24, 67, 32)   0           batch_normalization_5[0][0]      \n",
      "__________________________________________________________________________________________________\n",
      "dropout_5 (Dropout)             (None, 24, 67, 32)   0           max_pooling2d_5[0][0]            \n",
      "__________________________________________________________________________________________________\n",
      "conv2d_10 (Conv2D)              (None, 24, 67, 64)   18496       dropout_5[0][0]                  \n",
      "__________________________________________________________________________________________________\n",
      "conv2d_11 (Conv2D)              (None, 22, 65, 64)   36928       conv2d_10[0][0]                  \n",
      "__________________________________________________________________________________________________\n",
      "batch_normalization_6 (BatchNor (None, 22, 65, 64)   256         conv2d_11[0][0]                  \n",
      "__________________________________________________________________________________________________\n",
      "max_pooling2d_6 (MaxPooling2D)  (None, 11, 32, 64)   0           batch_normalization_6[0][0]      \n",
      "__________________________________________________________________________________________________\n",
      "dropout_6 (Dropout)             (None, 11, 32, 64)   0           max_pooling2d_6[0][0]            \n",
      "__________________________________________________________________________________________________\n",
      "conv2d_12 (Conv2D)              (None, 11, 32, 128)  73856       dropout_6[0][0]                  \n",
      "__________________________________________________________________________________________________\n",
      "conv2d_13 (Conv2D)              (None, 9, 30, 128)   147584      conv2d_12[0][0]                  \n",
      "__________________________________________________________________________________________________\n",
      "batch_normalization_7 (BatchNor (None, 9, 30, 128)   512         conv2d_13[0][0]                  \n",
      "__________________________________________________________________________________________________\n",
      "max_pooling2d_7 (MaxPooling2D)  (None, 4, 15, 128)   0           batch_normalization_7[0][0]      \n",
      "__________________________________________________________________________________________________\n",
      "dropout_7 (Dropout)             (None, 4, 15, 128)   0           max_pooling2d_7[0][0]            \n",
      "__________________________________________________________________________________________________\n",
      "conv2d_14 (Conv2D)              (None, 2, 13, 256)   295168      dropout_7[0][0]                  \n",
      "__________________________________________________________________________________________________\n",
      "batch_normalization_8 (BatchNor (None, 2, 13, 256)   1024        conv2d_14[0][0]                  \n",
      "__________________________________________________________________________________________________\n",
      "max_pooling2d_8 (MaxPooling2D)  (None, 1, 6, 256)    0           batch_normalization_8[0][0]      \n",
      "__________________________________________________________________________________________________\n",
      "flatten_2 (Flatten)             (None, 1536)         0           max_pooling2d_8[0][0]            \n",
      "__________________________________________________________________________________________________\n",
      "dropout_8 (Dropout)             (None, 1536)         0           flatten_2[0][0]                  \n",
      "__________________________________________________________________________________________________\n",
      "digit1 (Dense)                  (None, 36)           55332       dropout_8[0][0]                  \n",
      "__________________________________________________________________________________________________\n",
      "digit2 (Dense)                  (None, 36)           55332       dropout_8[0][0]                  \n",
      "__________________________________________________________________________________________________\n",
      "digit3 (Dense)                  (None, 36)           55332       dropout_8[0][0]                  \n",
      "__________________________________________________________________________________________________\n",
      "digit4 (Dense)                  (None, 36)           55332       dropout_8[0][0]                  \n",
      "==================================================================================================\n",
      "Total params: 805,424\n",
      "Trainable params: 804,464\n",
      "Non-trainable params: 960\n",
      "__________________________________________________________________________________________________\n"
     ]
    }
   ],
   "source": [
    "# CNN_Model\n",
    "input_layer = Input((51, 137, 3))\n",
    "out = input_layer\n",
    "out = Conv2D(filters=32, kernel_size=(3, 3), padding='same', activation='relu')(out)\n",
    "out = Conv2D(filters=32, kernel_size=(3, 3), activation='relu')(out)\n",
    "out = BatchNormalization()(out)\n",
    "out = MaxPooling2D(pool_size=(2, 2))(out)\n",
    "out = Dropout(0.3)(out)\n",
    "out = Conv2D(filters=64, kernel_size=(3, 3), padding='same', activation='relu')(out)\n",
    "out = Conv2D(filters=64, kernel_size=(3, 3), activation='relu')(out)\n",
    "out = BatchNormalization()(out)\n",
    "out = MaxPooling2D(pool_size=(2, 2))(out)\n",
    "out = Dropout(0.3)(out)\n",
    "out = Conv2D(filters=128, kernel_size=(3, 3), padding='same', activation='relu')(out)\n",
    "out = Conv2D(filters=128, kernel_size=(3, 3), activation='relu')(out)\n",
    "out = BatchNormalization()(out)\n",
    "out = MaxPooling2D(pool_size=(2, 2))(out)\n",
    "out = Dropout(0.3)(out)\n",
    "out = Conv2D(filters=256, kernel_size=(3, 3), activation='relu')(out)\n",
    "out = BatchNormalization()(out)\n",
    "out = MaxPooling2D(pool_size=(2, 2))(out)\n",
    "out = Flatten()(out)\n",
    "out = Dropout(0.3)(out)\n",
    "out = [Dense(36, name='digit1', activation='softmax')(out),\\\n",
    "    Dense(36, name='digit2', activation='softmax')(out),\\\n",
    "    Dense(36, name='digit3', activation='softmax')(out),\\\n",
    "    Dense(36, name='digit4', activation='softmax')(out)]\n",
    "my_model = Model(inputs=input_layer, outputs=out)\n",
    "losses = {\n",
    "    \"digit1\": \"categorical_crossentropy\",\n",
    "    \"digit2\": \"categorical_crossentropy\",\n",
    "    \"digit3\": \"categorical_crossentropy\",\n",
    "    \"digit4\": \"categorical_crossentropy\"\n",
    "}\n",
    "my_model.compile(loss=losses, optimizer=\"adamax\", metrics=['accuracy'])\n",
    "my_model.summary()"
   ]
  },
  {
   "cell_type": "code",
   "execution_count": 18,
   "metadata": {},
   "outputs": [],
   "source": [
    "from keras.callbacks import EarlyStopping\n",
    "early_stopping = EarlyStopping(monitor='val_loss', patience=50)\n"
   ]
  },
  {
   "cell_type": "code",
   "execution_count": 19,
   "metadata": {},
   "outputs": [
    {
     "name": "stderr",
     "output_type": "stream",
     "text": [
      "/usr/local/lib/python3.5/dist-packages/ipykernel_launcher.py:1: UserWarning: Update your `fit_generator` call to the Keras 2 API: `fit_generator(<generator..., validation_data=<generator..., epochs=300, steps_per_epoch=2001, callbacks=[<keras.ca..., validation_steps=300)`\n",
      "  \"\"\"Entry point for launching an IPython kernel.\n"
     ]
    },
    {
     "name": "stdout",
     "output_type": "stream",
     "text": [
      "Epoch 1/300\n",
      "2001/2001 [==============================] - 20s 10ms/step - loss: 11.2289 - digit1_loss: 2.5497 - digit2_loss: 2.8538 - digit3_loss: 2.8167 - digit4_loss: 3.0088 - digit1_acc: 0.3108 - digit2_acc: 0.2454 - digit3_acc: 0.2384 - digit4_acc: 0.1919 - val_loss: 8.7716 - val_digit1_loss: 2.5089 - val_digit2_loss: 1.7739 - val_digit3_loss: 1.8688 - val_digit4_loss: 2.6201 - val_digit1_acc: 0.4433 - val_digit2_acc: 0.4667 - val_digit3_acc: 0.4333 - val_digit4_acc: 0.2933\n",
      "Epoch 2/300\n",
      "2001/2001 [==============================] - 21s 10ms/step - loss: 5.0048 - digit1_loss: 1.0603 - digit2_loss: 1.2679 - digit3_loss: 1.2411 - digit4_loss: 1.4355 - digit1_acc: 0.6622 - digit2_acc: 0.6027 - digit3_acc: 0.5987 - digit4_acc: 0.5532 - val_loss: 4.3900 - val_digit1_loss: 1.1006 - val_digit2_loss: 0.8707 - val_digit3_loss: 0.8291 - val_digit4_loss: 1.5896 - val_digit1_acc: 0.6867 - val_digit2_acc: 0.7167 - val_digit3_acc: 0.7333 - val_digit4_acc: 0.5500\n",
      "Epoch 3/300\n",
      "2001/2001 [==============================] - 21s 10ms/step - loss: 2.5142 - digit1_loss: 0.5453 - digit2_loss: 0.6657 - digit3_loss: 0.6094 - digit4_loss: 0.6938 - digit1_acc: 0.8206 - digit2_acc: 0.7816 - digit3_acc: 0.8081 - digit4_acc: 0.7796 - val_loss: 2.8473 - val_digit1_loss: 0.6529 - val_digit2_loss: 0.6227 - val_digit3_loss: 0.4334 - val_digit4_loss: 1.1383 - val_digit1_acc: 0.7767 - val_digit2_acc: 0.8033 - val_digit3_acc: 0.8633 - val_digit4_acc: 0.6367\n",
      "Epoch 4/300\n",
      "2001/2001 [==============================] - 21s 10ms/step - loss: 1.4674 - digit1_loss: 0.3472 - digit2_loss: 0.3994 - digit3_loss: 0.3403 - digit4_loss: 0.3804 - digit1_acc: 0.8836 - digit2_acc: 0.8671 - digit3_acc: 0.8946 - digit4_acc: 0.8671 - val_loss: 2.1983 - val_digit1_loss: 0.6581 - val_digit2_loss: 0.3574 - val_digit3_loss: 0.3164 - val_digit4_loss: 0.8664 - val_digit1_acc: 0.7833 - val_digit2_acc: 0.8900 - val_digit3_acc: 0.8833 - val_digit4_acc: 0.7333\n",
      "Epoch 5/300\n",
      "2001/2001 [==============================] - 21s 10ms/step - loss: 0.9065 - digit1_loss: 0.2185 - digit2_loss: 0.2275 - digit3_loss: 0.2297 - digit4_loss: 0.2307 - digit1_acc: 0.9285 - digit2_acc: 0.9300 - digit3_acc: 0.9230 - digit4_acc: 0.9270 - val_loss: 1.8963 - val_digit1_loss: 0.5017 - val_digit2_loss: 0.4085 - val_digit3_loss: 0.2715 - val_digit4_loss: 0.7146 - val_digit1_acc: 0.8200 - val_digit2_acc: 0.8633 - val_digit3_acc: 0.9433 - val_digit4_acc: 0.7533\n",
      "Epoch 6/300\n",
      "2001/2001 [==============================] - 21s 10ms/step - loss: 0.5813 - digit1_loss: 0.1320 - digit2_loss: 0.1709 - digit3_loss: 0.1330 - digit4_loss: 0.1454 - digit1_acc: 0.9575 - digit2_acc: 0.9470 - digit3_acc: 0.9600 - digit4_acc: 0.9520 - val_loss: 1.5071 - val_digit1_loss: 0.4548 - val_digit2_loss: 0.2275 - val_digit3_loss: 0.2319 - val_digit4_loss: 0.5930 - val_digit1_acc: 0.8500 - val_digit2_acc: 0.9333 - val_digit3_acc: 0.9500 - val_digit4_acc: 0.8100\n",
      "Epoch 7/300\n",
      "2001/2001 [==============================] - 20s 10ms/step - loss: 0.3489 - digit1_loss: 0.0862 - digit2_loss: 0.1047 - digit3_loss: 0.0753 - digit4_loss: 0.0827 - digit1_acc: 0.9735 - digit2_acc: 0.9645 - digit3_acc: 0.9790 - digit4_acc: 0.9765 - val_loss: 1.4102 - val_digit1_loss: 0.4403 - val_digit2_loss: 0.2333 - val_digit3_loss: 0.2262 - val_digit4_loss: 0.5103 - val_digit1_acc: 0.8500 - val_digit2_acc: 0.9367 - val_digit3_acc: 0.9367 - val_digit4_acc: 0.8367\n",
      "Epoch 8/300\n",
      "2001/2001 [==============================] - 21s 10ms/step - loss: 0.2670 - digit1_loss: 0.0716 - digit2_loss: 0.0672 - digit3_loss: 0.0584 - digit4_loss: 0.0699 - digit1_acc: 0.9765 - digit2_acc: 0.9790 - digit3_acc: 0.9840 - digit4_acc: 0.9775 - val_loss: 1.2936 - val_digit1_loss: 0.3534 - val_digit2_loss: 0.2221 - val_digit3_loss: 0.2065 - val_digit4_loss: 0.5115 - val_digit1_acc: 0.8533 - val_digit2_acc: 0.9367 - val_digit3_acc: 0.9533 - val_digit4_acc: 0.8533\n",
      "Epoch 9/300\n",
      "2001/2001 [==============================] - 21s 10ms/step - loss: 0.1989 - digit1_loss: 0.0500 - digit2_loss: 0.0540 - digit3_loss: 0.0440 - digit4_loss: 0.0508 - digit1_acc: 0.9835 - digit2_acc: 0.9815 - digit3_acc: 0.9865 - digit4_acc: 0.9885 - val_loss: 1.3022 - val_digit1_loss: 0.3864 - val_digit2_loss: 0.2150 - val_digit3_loss: 0.1879 - val_digit4_loss: 0.5130 - val_digit1_acc: 0.8733 - val_digit2_acc: 0.9433 - val_digit3_acc: 0.9467 - val_digit4_acc: 0.8667\n",
      "Epoch 10/300\n",
      "2001/2001 [==============================] - 21s 10ms/step - loss: 0.1659 - digit1_loss: 0.0470 - digit2_loss: 0.0523 - digit3_loss: 0.0267 - digit4_loss: 0.0399 - digit1_acc: 0.9840 - digit2_acc: 0.9835 - digit3_acc: 0.9920 - digit4_acc: 0.9885 - val_loss: 1.1319 - val_digit1_loss: 0.3529 - val_digit2_loss: 0.1862 - val_digit3_loss: 0.1678 - val_digit4_loss: 0.4250 - val_digit1_acc: 0.8733 - val_digit2_acc: 0.9500 - val_digit3_acc: 0.9600 - val_digit4_acc: 0.8733\n",
      "Epoch 11/300\n",
      "2001/2001 [==============================] - 21s 10ms/step - loss: 0.1099 - digit1_loss: 0.0262 - digit2_loss: 0.0302 - digit3_loss: 0.0210 - digit4_loss: 0.0325 - digit1_acc: 0.9940 - digit2_acc: 0.9920 - digit3_acc: 0.9945 - digit4_acc: 0.9905 - val_loss: 0.9913 - val_digit1_loss: 0.2667 - val_digit2_loss: 0.1637 - val_digit3_loss: 0.1654 - val_digit4_loss: 0.3954 - val_digit1_acc: 0.9000 - val_digit2_acc: 0.9467 - val_digit3_acc: 0.9600 - val_digit4_acc: 0.8867\n",
      "Epoch 12/300\n",
      "2001/2001 [==============================] - 20s 10ms/step - loss: 0.0923 - digit1_loss: 0.0227 - digit2_loss: 0.0200 - digit3_loss: 0.0232 - digit4_loss: 0.0265 - digit1_acc: 0.9940 - digit2_acc: 0.9930 - digit3_acc: 0.9955 - digit4_acc: 0.9910 - val_loss: 0.9997 - val_digit1_loss: 0.3228 - val_digit2_loss: 0.1420 - val_digit3_loss: 0.1430 - val_digit4_loss: 0.3920 - val_digit1_acc: 0.8800 - val_digit2_acc: 0.9633 - val_digit3_acc: 0.9667 - val_digit4_acc: 0.8800\n",
      "Epoch 13/300\n",
      "2001/2001 [==============================] - 20s 10ms/step - loss: 0.0952 - digit1_loss: 0.0239 - digit2_loss: 0.0272 - digit3_loss: 0.0187 - digit4_loss: 0.0254 - digit1_acc: 0.9940 - digit2_acc: 0.9900 - digit3_acc: 0.9965 - digit4_acc: 0.9920 - val_loss: 0.9587 - val_digit1_loss: 0.2847 - val_digit2_loss: 0.1477 - val_digit3_loss: 0.1472 - val_digit4_loss: 0.3791 - val_digit1_acc: 0.8967 - val_digit2_acc: 0.9600 - val_digit3_acc: 0.9633 - val_digit4_acc: 0.8967\n",
      "Epoch 14/300\n",
      "2001/2001 [==============================] - 20s 10ms/step - loss: 0.0613 - digit1_loss: 0.0170 - digit2_loss: 0.0175 - digit3_loss: 0.0121 - digit4_loss: 0.0147 - digit1_acc: 0.9950 - digit2_acc: 0.9945 - digit3_acc: 0.9975 - digit4_acc: 0.9970 - val_loss: 0.8057 - val_digit1_loss: 0.2267 - val_digit2_loss: 0.1129 - val_digit3_loss: 0.1309 - val_digit4_loss: 0.3352 - val_digit1_acc: 0.9133 - val_digit2_acc: 0.9633 - val_digit3_acc: 0.9733 - val_digit4_acc: 0.8867\n",
      "Epoch 15/300\n",
      "2001/2001 [==============================] - 20s 10ms/step - loss: 0.0597 - digit1_loss: 0.0157 - digit2_loss: 0.0168 - digit3_loss: 0.0107 - digit4_loss: 0.0165 - digit1_acc: 0.9945 - digit2_acc: 0.9955 - digit3_acc: 0.9970 - digit4_acc: 0.9965 - val_loss: 0.9131 - val_digit1_loss: 0.2883 - val_digit2_loss: 0.1303 - val_digit3_loss: 0.1592 - val_digit4_loss: 0.3352 - val_digit1_acc: 0.9000 - val_digit2_acc: 0.9667 - val_digit3_acc: 0.9667 - val_digit4_acc: 0.9000\n",
      "Epoch 16/300\n",
      "2001/2001 [==============================] - 20s 10ms/step - loss: 0.0629 - digit1_loss: 0.0197 - digit2_loss: 0.0187 - digit3_loss: 0.0114 - digit4_loss: 0.0130 - digit1_acc: 0.9935 - digit2_acc: 0.9935 - digit3_acc: 0.9975 - digit4_acc: 0.9975 - val_loss: 0.8003 - val_digit1_loss: 0.1998 - val_digit2_loss: 0.1325 - val_digit3_loss: 0.1174 - val_digit4_loss: 0.3506 - val_digit1_acc: 0.9200 - val_digit2_acc: 0.9633 - val_digit3_acc: 0.9767 - val_digit4_acc: 0.9067\n",
      "Epoch 17/300\n",
      "2001/2001 [==============================] - 20s 10ms/step - loss: 0.0617 - digit1_loss: 0.0245 - digit2_loss: 0.0157 - digit3_loss: 0.0099 - digit4_loss: 0.0115 - digit1_acc: 0.9910 - digit2_acc: 0.9950 - digit3_acc: 0.9980 - digit4_acc: 0.9965 - val_loss: 0.8485 - val_digit1_loss: 0.2847 - val_digit2_loss: 0.1542 - val_digit3_loss: 0.1239 - val_digit4_loss: 0.2857 - val_digit1_acc: 0.9067 - val_digit2_acc: 0.9667 - val_digit3_acc: 0.9767 - val_digit4_acc: 0.9100\n",
      "Epoch 18/300\n"
     ]
    },
    {
     "name": "stdout",
     "output_type": "stream",
     "text": [
      "2001/2001 [==============================] - 21s 10ms/step - loss: 0.0367 - digit1_loss: 0.0055 - digit2_loss: 0.0118 - digit3_loss: 0.0073 - digit4_loss: 0.0120 - digit1_acc: 0.9995 - digit2_acc: 0.9970 - digit3_acc: 0.9990 - digit4_acc: 0.9965 - val_loss: 0.8263 - val_digit1_loss: 0.2132 - val_digit2_loss: 0.1578 - val_digit3_loss: 0.1157 - val_digit4_loss: 0.3396 - val_digit1_acc: 0.9167 - val_digit2_acc: 0.9667 - val_digit3_acc: 0.9633 - val_digit4_acc: 0.9100\n",
      "Epoch 19/300\n",
      "2001/2001 [==============================] - 20s 10ms/step - loss: 0.0354 - digit1_loss: 0.0088 - digit2_loss: 0.0108 - digit3_loss: 0.0082 - digit4_loss: 0.0077 - digit1_acc: 0.9975 - digit2_acc: 0.9965 - digit3_acc: 0.9965 - digit4_acc: 0.9980 - val_loss: 1.0274 - val_digit1_loss: 0.3833 - val_digit2_loss: 0.1476 - val_digit3_loss: 0.1340 - val_digit4_loss: 0.3625 - val_digit1_acc: 0.8833 - val_digit2_acc: 0.9733 - val_digit3_acc: 0.9667 - val_digit4_acc: 0.9000\n",
      "Epoch 20/300\n",
      "2001/2001 [==============================] - 21s 10ms/step - loss: 0.0304 - digit1_loss: 0.0082 - digit2_loss: 0.0080 - digit3_loss: 0.0081 - digit4_loss: 0.0061 - digit1_acc: 0.9985 - digit2_acc: 0.9990 - digit3_acc: 0.9980 - digit4_acc: 0.9990 - val_loss: 0.8033 - val_digit1_loss: 0.2272 - val_digit2_loss: 0.1251 - val_digit3_loss: 0.1071 - val_digit4_loss: 0.3439 - val_digit1_acc: 0.9133 - val_digit2_acc: 0.9633 - val_digit3_acc: 0.9667 - val_digit4_acc: 0.8967\n",
      "Epoch 21/300\n",
      "2001/2001 [==============================] - 21s 10ms/step - loss: 0.0300 - digit1_loss: 0.0094 - digit2_loss: 0.0098 - digit3_loss: 0.0076 - digit4_loss: 0.0031 - digit1_acc: 0.9975 - digit2_acc: 0.9980 - digit3_acc: 0.9980 - digit4_acc: 1.0000 - val_loss: 0.8958 - val_digit1_loss: 0.3032 - val_digit2_loss: 0.1345 - val_digit3_loss: 0.1318 - val_digit4_loss: 0.3262 - val_digit1_acc: 0.8867 - val_digit2_acc: 0.9667 - val_digit3_acc: 0.9700 - val_digit4_acc: 0.9067\n",
      "Epoch 22/300\n",
      "2001/2001 [==============================] - 20s 10ms/step - loss: 0.0238 - digit1_loss: 0.0087 - digit2_loss: 0.0052 - digit3_loss: 0.0051 - digit4_loss: 0.0048 - digit1_acc: 0.9965 - digit2_acc: 0.9985 - digit3_acc: 0.9985 - digit4_acc: 0.9990 - val_loss: 0.9284 - val_digit1_loss: 0.2902 - val_digit2_loss: 0.1358 - val_digit3_loss: 0.1434 - val_digit4_loss: 0.3590 - val_digit1_acc: 0.8967 - val_digit2_acc: 0.9733 - val_digit3_acc: 0.9767 - val_digit4_acc: 0.9133\n",
      "Epoch 23/300\n",
      "2001/2001 [==============================] - 21s 10ms/step - loss: 0.0175 - digit1_loss: 0.0033 - digit2_loss: 0.0087 - digit3_loss: 0.0024 - digit4_loss: 0.0030 - digit1_acc: 0.9990 - digit2_acc: 0.9970 - digit3_acc: 1.0000 - digit4_acc: 0.9995 - val_loss: 0.7667 - val_digit1_loss: 0.2165 - val_digit2_loss: 0.1001 - val_digit3_loss: 0.1160 - val_digit4_loss: 0.3341 - val_digit1_acc: 0.9200 - val_digit2_acc: 0.9800 - val_digit3_acc: 0.9733 - val_digit4_acc: 0.9100\n",
      "Epoch 24/300\n",
      "2001/2001 [==============================] - 20s 10ms/step - loss: 0.0188 - digit1_loss: 0.0043 - digit2_loss: 0.0059 - digit3_loss: 0.0042 - digit4_loss: 0.0044 - digit1_acc: 0.9985 - digit2_acc: 0.9975 - digit3_acc: 0.9980 - digit4_acc: 0.9980 - val_loss: 0.7553 - val_digit1_loss: 0.1964 - val_digit2_loss: 0.1025 - val_digit3_loss: 0.1269 - val_digit4_loss: 0.3294 - val_digit1_acc: 0.9267 - val_digit2_acc: 0.9733 - val_digit3_acc: 0.9867 - val_digit4_acc: 0.9133\n",
      "Epoch 25/300\n",
      "2001/2001 [==============================] - 20s 10ms/step - loss: 0.0166 - digit1_loss: 0.0058 - digit2_loss: 0.0045 - digit3_loss: 0.0036 - digit4_loss: 0.0027 - digit1_acc: 0.9985 - digit2_acc: 0.9990 - digit3_acc: 0.9995 - digit4_acc: 1.0000 - val_loss: 0.8408 - val_digit1_loss: 0.1928 - val_digit2_loss: 0.1224 - val_digit3_loss: 0.1493 - val_digit4_loss: 0.3763 - val_digit1_acc: 0.9200 - val_digit2_acc: 0.9667 - val_digit3_acc: 0.9767 - val_digit4_acc: 0.9033\n",
      "Epoch 26/300\n",
      "2001/2001 [==============================] - 20s 10ms/step - loss: 0.0162 - digit1_loss: 0.0038 - digit2_loss: 0.0038 - digit3_loss: 0.0050 - digit4_loss: 0.0036 - digit1_acc: 0.9985 - digit2_acc: 0.9990 - digit3_acc: 0.9985 - digit4_acc: 0.9995 - val_loss: 0.8874 - val_digit1_loss: 0.2279 - val_digit2_loss: 0.1411 - val_digit3_loss: 0.1548 - val_digit4_loss: 0.3637 - val_digit1_acc: 0.9300 - val_digit2_acc: 0.9600 - val_digit3_acc: 0.9767 - val_digit4_acc: 0.9133\n",
      "Epoch 27/300\n",
      "2001/2001 [==============================] - 20s 10ms/step - loss: 0.0231 - digit1_loss: 0.0078 - digit2_loss: 0.0069 - digit3_loss: 0.0044 - digit4_loss: 0.0040 - digit1_acc: 0.9980 - digit2_acc: 0.9980 - digit3_acc: 0.9990 - digit4_acc: 0.9995 - val_loss: 0.8396 - val_digit1_loss: 0.2329 - val_digit2_loss: 0.1194 - val_digit3_loss: 0.1224 - val_digit4_loss: 0.3650 - val_digit1_acc: 0.9400 - val_digit2_acc: 0.9733 - val_digit3_acc: 0.9800 - val_digit4_acc: 0.8967\n",
      "Epoch 28/300\n",
      "2001/2001 [==============================] - 20s 10ms/step - loss: 0.0175 - digit1_loss: 0.0046 - digit2_loss: 0.0030 - digit3_loss: 0.0064 - digit4_loss: 0.0035 - digit1_acc: 0.9980 - digit2_acc: 0.9995 - digit3_acc: 0.9975 - digit4_acc: 0.9990 - val_loss: 0.8406 - val_digit1_loss: 0.2499 - val_digit2_loss: 0.1158 - val_digit3_loss: 0.1227 - val_digit4_loss: 0.3522 - val_digit1_acc: 0.9300 - val_digit2_acc: 0.9733 - val_digit3_acc: 0.9767 - val_digit4_acc: 0.9133\n",
      "Epoch 29/300\n",
      "2001/2001 [==============================] - 20s 10ms/step - loss: 0.0162 - digit1_loss: 0.0032 - digit2_loss: 0.0073 - digit3_loss: 0.0035 - digit4_loss: 0.0021 - digit1_acc: 0.9995 - digit2_acc: 0.9980 - digit3_acc: 0.9995 - digit4_acc: 1.0000 - val_loss: 0.9055 - val_digit1_loss: 0.3492 - val_digit2_loss: 0.0946 - val_digit3_loss: 0.1314 - val_digit4_loss: 0.3303 - val_digit1_acc: 0.9100 - val_digit2_acc: 0.9733 - val_digit3_acc: 0.9700 - val_digit4_acc: 0.9200\n",
      "Epoch 30/300\n",
      "2001/2001 [==============================] - 20s 10ms/step - loss: 0.0158 - digit1_loss: 0.0036 - digit2_loss: 0.0040 - digit3_loss: 0.0026 - digit4_loss: 0.0056 - digit1_acc: 0.9995 - digit2_acc: 0.9990 - digit3_acc: 0.9990 - digit4_acc: 0.9990 - val_loss: 0.8096 - val_digit1_loss: 0.2813 - val_digit2_loss: 0.1064 - val_digit3_loss: 0.1265 - val_digit4_loss: 0.2954 - val_digit1_acc: 0.9300 - val_digit2_acc: 0.9733 - val_digit3_acc: 0.9833 - val_digit4_acc: 0.9300\n",
      "Epoch 31/300\n",
      "2001/2001 [==============================] - 20s 10ms/step - loss: 0.0138 - digit1_loss: 0.0023 - digit2_loss: 0.0052 - digit3_loss: 0.0032 - digit4_loss: 0.0032 - digit1_acc: 0.9995 - digit2_acc: 0.9985 - digit3_acc: 0.9995 - digit4_acc: 0.9990 - val_loss: 0.8045 - val_digit1_loss: 0.3032 - val_digit2_loss: 0.0830 - val_digit3_loss: 0.1121 - val_digit4_loss: 0.3062 - val_digit1_acc: 0.9133 - val_digit2_acc: 0.9767 - val_digit3_acc: 0.9833 - val_digit4_acc: 0.9333\n",
      "Epoch 32/300\n",
      "2001/2001 [==============================] - 21s 10ms/step - loss: 0.0157 - digit1_loss: 0.0047 - digit2_loss: 0.0015 - digit3_loss: 0.0064 - digit4_loss: 0.0032 - digit1_acc: 0.9985 - digit2_acc: 1.0000 - digit3_acc: 0.9985 - digit4_acc: 0.9990 - val_loss: 0.8436 - val_digit1_loss: 0.2744 - val_digit2_loss: 0.1053 - val_digit3_loss: 0.1168 - val_digit4_loss: 0.3470 - val_digit1_acc: 0.9133 - val_digit2_acc: 0.9800 - val_digit3_acc: 0.9800 - val_digit4_acc: 0.9167\n",
      "Epoch 33/300\n",
      "2001/2001 [==============================] - 20s 10ms/step - loss: 0.0095 - digit1_loss: 0.0033 - digit2_loss: 0.0024 - digit3_loss: 0.0022 - digit4_loss: 0.0016 - digit1_acc: 0.9990 - digit2_acc: 0.9995 - digit3_acc: 0.9995 - digit4_acc: 0.9995 - val_loss: 0.7600 - val_digit1_loss: 0.2047 - val_digit2_loss: 0.1180 - val_digit3_loss: 0.1068 - val_digit4_loss: 0.3305 - val_digit1_acc: 0.9400 - val_digit2_acc: 0.9767 - val_digit3_acc: 0.9833 - val_digit4_acc: 0.9100\n",
      "Epoch 34/300\n",
      "2001/2001 [==============================] - 20s 10ms/step - loss: 0.0086 - digit1_loss: 0.0029 - digit2_loss: 0.0033 - digit3_loss: 8.4328e-04 - digit4_loss: 0.0015 - digit1_acc: 0.9990 - digit2_acc: 0.9995 - digit3_acc: 1.0000 - digit4_acc: 1.0000 - val_loss: 0.9837 - val_digit1_loss: 0.3175 - val_digit2_loss: 0.1285 - val_digit3_loss: 0.1514 - val_digit4_loss: 0.3862 - val_digit1_acc: 0.9100 - val_digit2_acc: 0.9667 - val_digit3_acc: 0.9800 - val_digit4_acc: 0.9133\n",
      "Epoch 35/300\n"
     ]
    },
    {
     "name": "stdout",
     "output_type": "stream",
     "text": [
      "2001/2001 [==============================] - 21s 10ms/step - loss: 0.0085 - digit1_loss: 0.0016 - digit2_loss: 0.0025 - digit3_loss: 0.0028 - digit4_loss: 0.0015 - digit1_acc: 0.9995 - digit2_acc: 0.9990 - digit3_acc: 0.9985 - digit4_acc: 1.0000 - val_loss: 0.8670 - val_digit1_loss: 0.2544 - val_digit2_loss: 0.1143 - val_digit3_loss: 0.1235 - val_digit4_loss: 0.3748 - val_digit1_acc: 0.9233 - val_digit2_acc: 0.9767 - val_digit3_acc: 0.9833 - val_digit4_acc: 0.9100\n",
      "Epoch 36/300\n",
      "2001/2001 [==============================] - 21s 10ms/step - loss: 0.0087 - digit1_loss: 0.0018 - digit2_loss: 0.0027 - digit3_loss: 0.0018 - digit4_loss: 0.0024 - digit1_acc: 1.0000 - digit2_acc: 0.9995 - digit3_acc: 0.9995 - digit4_acc: 0.9995 - val_loss: 0.9342 - val_digit1_loss: 0.3228 - val_digit2_loss: 0.1405 - val_digit3_loss: 0.1477 - val_digit4_loss: 0.3233 - val_digit1_acc: 0.9267 - val_digit2_acc: 0.9667 - val_digit3_acc: 0.9800 - val_digit4_acc: 0.9267\n",
      "Epoch 37/300\n",
      "2001/2001 [==============================] - 21s 10ms/step - loss: 0.0054 - digit1_loss: 0.0011 - digit2_loss: 0.0011 - digit3_loss: 0.0014 - digit4_loss: 0.0017 - digit1_acc: 0.9995 - digit2_acc: 1.0000 - digit3_acc: 0.9995 - digit4_acc: 1.0000 - val_loss: 0.7699 - val_digit1_loss: 0.2466 - val_digit2_loss: 0.1109 - val_digit3_loss: 0.1311 - val_digit4_loss: 0.2813 - val_digit1_acc: 0.9333 - val_digit2_acc: 0.9667 - val_digit3_acc: 0.9800 - val_digit4_acc: 0.9333\n",
      "Epoch 38/300\n",
      "2001/2001 [==============================] - 21s 10ms/step - loss: 0.0103 - digit1_loss: 0.0012 - digit2_loss: 0.0045 - digit3_loss: 0.0024 - digit4_loss: 0.0022 - digit1_acc: 1.0000 - digit2_acc: 0.9985 - digit3_acc: 0.9990 - digit4_acc: 0.9985 - val_loss: 0.7261 - val_digit1_loss: 0.2076 - val_digit2_loss: 0.1023 - val_digit3_loss: 0.0982 - val_digit4_loss: 0.3180 - val_digit1_acc: 0.9500 - val_digit2_acc: 0.9733 - val_digit3_acc: 0.9833 - val_digit4_acc: 0.9300\n",
      "Epoch 39/300\n",
      "2001/2001 [==============================] - 21s 10ms/step - loss: 0.0098 - digit1_loss: 0.0033 - digit2_loss: 0.0016 - digit3_loss: 0.0041 - digit4_loss: 7.2170e-04 - digit1_acc: 0.9990 - digit2_acc: 0.9995 - digit3_acc: 0.9985 - digit4_acc: 1.0000 - val_loss: 0.8512 - val_digit1_loss: 0.2662 - val_digit2_loss: 0.1219 - val_digit3_loss: 0.1641 - val_digit4_loss: 0.2990 - val_digit1_acc: 0.9233 - val_digit2_acc: 0.9633 - val_digit3_acc: 0.9733 - val_digit4_acc: 0.9400\n",
      "Epoch 40/300\n",
      "2001/2001 [==============================] - 20s 10ms/step - loss: 0.0074 - digit1_loss: 0.0026 - digit2_loss: 0.0013 - digit3_loss: 0.0020 - digit4_loss: 0.0014 - digit1_acc: 0.9990 - digit2_acc: 1.0000 - digit3_acc: 0.9995 - digit4_acc: 0.9995 - val_loss: 0.6686 - val_digit1_loss: 0.1805 - val_digit2_loss: 0.0892 - val_digit3_loss: 0.1136 - val_digit4_loss: 0.2853 - val_digit1_acc: 0.9500 - val_digit2_acc: 0.9733 - val_digit3_acc: 0.9867 - val_digit4_acc: 0.9300\n",
      "Epoch 41/300\n",
      "2001/2001 [==============================] - 21s 10ms/step - loss: 0.0067 - digit1_loss: 0.0017 - digit2_loss: 0.0022 - digit3_loss: 0.0021 - digit4_loss: 6.8982e-04 - digit1_acc: 0.9995 - digit2_acc: 0.9990 - digit3_acc: 0.9995 - digit4_acc: 1.0000 - val_loss: 0.7551 - val_digit1_loss: 0.2973 - val_digit2_loss: 0.0690 - val_digit3_loss: 0.1047 - val_digit4_loss: 0.2843 - val_digit1_acc: 0.9200 - val_digit2_acc: 0.9767 - val_digit3_acc: 0.9767 - val_digit4_acc: 0.9300\n",
      "Epoch 42/300\n",
      "2001/2001 [==============================] - 21s 10ms/step - loss: 0.0080 - digit1_loss: 0.0030 - digit2_loss: 0.0027 - digit3_loss: 6.2205e-04 - digit4_loss: 0.0017 - digit1_acc: 0.9990 - digit2_acc: 0.9985 - digit3_acc: 1.0000 - digit4_acc: 1.0000 - val_loss: 0.7499 - val_digit1_loss: 0.2386 - val_digit2_loss: 0.0895 - val_digit3_loss: 0.1149 - val_digit4_loss: 0.3068 - val_digit1_acc: 0.9233 - val_digit2_acc: 0.9767 - val_digit3_acc: 0.9800 - val_digit4_acc: 0.9333\n",
      "Epoch 43/300\n",
      "2001/2001 [==============================] - 21s 10ms/step - loss: 0.0066 - digit1_loss: 0.0036 - digit2_loss: 0.0014 - digit3_loss: 5.2316e-04 - digit4_loss: 0.0011 - digit1_acc: 0.9985 - digit2_acc: 0.9995 - digit3_acc: 1.0000 - digit4_acc: 1.0000 - val_loss: 0.7884 - val_digit1_loss: 0.2632 - val_digit2_loss: 0.0888 - val_digit3_loss: 0.1213 - val_digit4_loss: 0.3151 - val_digit1_acc: 0.9267 - val_digit2_acc: 0.9767 - val_digit3_acc: 0.9767 - val_digit4_acc: 0.9300\n",
      "Epoch 44/300\n",
      "2001/2001 [==============================] - 21s 10ms/step - loss: 0.0092 - digit1_loss: 0.0015 - digit2_loss: 0.0031 - digit3_loss: 8.7456e-04 - digit4_loss: 0.0037 - digit1_acc: 0.9995 - digit2_acc: 0.9985 - digit3_acc: 1.0000 - digit4_acc: 0.9995 - val_loss: 0.7433 - val_digit1_loss: 0.2538 - val_digit2_loss: 0.0856 - val_digit3_loss: 0.1084 - val_digit4_loss: 0.2954 - val_digit1_acc: 0.9333 - val_digit2_acc: 0.9733 - val_digit3_acc: 0.9833 - val_digit4_acc: 0.9333\n",
      "Epoch 45/300\n",
      "2001/2001 [==============================] - 21s 10ms/step - loss: 0.0036 - digit1_loss: 0.0016 - digit2_loss: 8.2746e-04 - digit3_loss: 5.5945e-04 - digit4_loss: 5.7439e-04 - digit1_acc: 0.9990 - digit2_acc: 1.0000 - digit3_acc: 1.0000 - digit4_acc: 1.0000 - val_loss: 0.6929 - val_digit1_loss: 0.2107 - val_digit2_loss: 0.0715 - val_digit3_loss: 0.1090 - val_digit4_loss: 0.3017 - val_digit1_acc: 0.9433 - val_digit2_acc: 0.9867 - val_digit3_acc: 0.9833 - val_digit4_acc: 0.9333\n",
      "Epoch 46/300\n",
      "2001/2001 [==============================] - 21s 10ms/step - loss: 0.0071 - digit1_loss: 0.0016 - digit2_loss: 0.0018 - digit3_loss: 3.3675e-04 - digit4_loss: 0.0033 - digit1_acc: 0.9995 - digit2_acc: 0.9995 - digit3_acc: 1.0000 - digit4_acc: 0.9995 - val_loss: 0.7143 - val_digit1_loss: 0.2166 - val_digit2_loss: 0.0803 - val_digit3_loss: 0.1109 - val_digit4_loss: 0.3065 - val_digit1_acc: 0.9467 - val_digit2_acc: 0.9733 - val_digit3_acc: 0.9800 - val_digit4_acc: 0.9267\n",
      "Epoch 47/300\n",
      "2001/2001 [==============================] - 20s 10ms/step - loss: 0.0031 - digit1_loss: 5.9426e-04 - digit2_loss: 0.0011 - digit3_loss: 3.3654e-04 - digit4_loss: 0.0010 - digit1_acc: 1.0000 - digit2_acc: 0.9995 - digit3_acc: 1.0000 - digit4_acc: 1.0000 - val_loss: 0.7083 - val_digit1_loss: 0.2037 - val_digit2_loss: 0.0784 - val_digit3_loss: 0.1433 - val_digit4_loss: 0.2830 - val_digit1_acc: 0.9433 - val_digit2_acc: 0.9767 - val_digit3_acc: 0.9733 - val_digit4_acc: 0.9367\n",
      "Epoch 48/300\n",
      "2001/2001 [==============================] - 20s 10ms/step - loss: 0.0029 - digit1_loss: 0.0013 - digit2_loss: 2.8893e-04 - digit3_loss: 5.9058e-04 - digit4_loss: 7.7069e-04 - digit1_acc: 0.9995 - digit2_acc: 1.0000 - digit3_acc: 1.0000 - digit4_acc: 0.9995 - val_loss: 0.6993 - val_digit1_loss: 0.2013 - val_digit2_loss: 0.0786 - val_digit3_loss: 0.1335 - val_digit4_loss: 0.2859 - val_digit1_acc: 0.9400 - val_digit2_acc: 0.9833 - val_digit3_acc: 0.9767 - val_digit4_acc: 0.9367\n",
      "Epoch 49/300\n",
      "2001/2001 [==============================] - 20s 10ms/step - loss: 0.0042 - digit1_loss: 6.7094e-04 - digit2_loss: 0.0018 - digit3_loss: 4.3223e-04 - digit4_loss: 0.0013 - digit1_acc: 1.0000 - digit2_acc: 0.9990 - digit3_acc: 1.0000 - digit4_acc: 1.0000 - val_loss: 0.6708 - val_digit1_loss: 0.2015 - val_digit2_loss: 0.0897 - val_digit3_loss: 0.0986 - val_digit4_loss: 0.2810 - val_digit1_acc: 0.9333 - val_digit2_acc: 0.9767 - val_digit3_acc: 0.9800 - val_digit4_acc: 0.9400\n",
      "Epoch 50/300\n",
      "2001/2001 [==============================] - 20s 10ms/step - loss: 0.0028 - digit1_loss: 3.3605e-04 - digit2_loss: 9.1889e-04 - digit3_loss: 2.9108e-04 - digit4_loss: 0.0012 - digit1_acc: 1.0000 - digit2_acc: 1.0000 - digit3_acc: 1.0000 - digit4_acc: 0.9995 - val_loss: 0.7274 - val_digit1_loss: 0.2254 - val_digit2_loss: 0.0979 - val_digit3_loss: 0.1377 - val_digit4_loss: 0.2664 - val_digit1_acc: 0.9333 - val_digit2_acc: 0.9767 - val_digit3_acc: 0.9733 - val_digit4_acc: 0.9433\n",
      "Epoch 51/300\n",
      "2001/2001 [==============================] - 20s 10ms/step - loss: 0.0071 - digit1_loss: 0.0038 - digit2_loss: 0.0022 - digit3_loss: 2.7907e-04 - digit4_loss: 8.5057e-04 - digit1_acc: 0.9990 - digit2_acc: 0.9990 - digit3_acc: 1.0000 - digit4_acc: 0.9995 - val_loss: 0.8066 - val_digit1_loss: 0.2557 - val_digit2_loss: 0.0995 - val_digit3_loss: 0.1417 - val_digit4_loss: 0.3097 - val_digit1_acc: 0.9300 - val_digit2_acc: 0.9767 - val_digit3_acc: 0.9767 - val_digit4_acc: 0.9333\n"
     ]
    },
    {
     "name": "stdout",
     "output_type": "stream",
     "text": [
      "Epoch 52/300\n",
      "2001/2001 [==============================] - 21s 10ms/step - loss: 0.0096 - digit1_loss: 0.0030 - digit2_loss: 0.0031 - digit3_loss: 0.0022 - digit4_loss: 0.0013 - digit1_acc: 0.9990 - digit2_acc: 0.9995 - digit3_acc: 0.9990 - digit4_acc: 0.9995 - val_loss: 0.7273 - val_digit1_loss: 0.2043 - val_digit2_loss: 0.0919 - val_digit3_loss: 0.1337 - val_digit4_loss: 0.2974 - val_digit1_acc: 0.9467 - val_digit2_acc: 0.9833 - val_digit3_acc: 0.9800 - val_digit4_acc: 0.9333\n",
      "Epoch 53/300\n",
      "2001/2001 [==============================] - 21s 10ms/step - loss: 0.0048 - digit1_loss: 0.0016 - digit2_loss: 0.0017 - digit3_loss: 9.4525e-04 - digit4_loss: 4.5620e-04 - digit1_acc: 0.9995 - digit2_acc: 0.9995 - digit3_acc: 0.9995 - digit4_acc: 1.0000 - val_loss: 0.7629 - val_digit1_loss: 0.2853 - val_digit2_loss: 0.0833 - val_digit3_loss: 0.0792 - val_digit4_loss: 0.3151 - val_digit1_acc: 0.9267 - val_digit2_acc: 0.9800 - val_digit3_acc: 0.9833 - val_digit4_acc: 0.9233\n",
      "Epoch 54/300\n",
      "2001/2001 [==============================] - 21s 10ms/step - loss: 0.0035 - digit1_loss: 1.7251e-04 - digit2_loss: 0.0026 - digit3_loss: 3.9471e-04 - digit4_loss: 3.3978e-04 - digit1_acc: 1.0000 - digit2_acc: 0.9995 - digit3_acc: 1.0000 - digit4_acc: 1.0000 - val_loss: 0.7920 - val_digit1_loss: 0.3023 - val_digit2_loss: 0.1067 - val_digit3_loss: 0.0838 - val_digit4_loss: 0.2991 - val_digit1_acc: 0.9267 - val_digit2_acc: 0.9800 - val_digit3_acc: 0.9900 - val_digit4_acc: 0.9367\n",
      "Epoch 55/300\n",
      "2001/2001 [==============================] - 21s 10ms/step - loss: 0.0053 - digit1_loss: 0.0018 - digit2_loss: 0.0025 - digit3_loss: 5.5789e-04 - digit4_loss: 4.1417e-04 - digit1_acc: 0.9995 - digit2_acc: 0.9990 - digit3_acc: 1.0000 - digit4_acc: 1.0000 - val_loss: 0.6677 - val_digit1_loss: 0.2307 - val_digit2_loss: 0.1109 - val_digit3_loss: 0.0825 - val_digit4_loss: 0.2436 - val_digit1_acc: 0.9367 - val_digit2_acc: 0.9767 - val_digit3_acc: 0.9867 - val_digit4_acc: 0.9400\n",
      "Epoch 56/300\n",
      "2001/2001 [==============================] - 20s 10ms/step - loss: 0.0050 - digit1_loss: 0.0016 - digit2_loss: 3.9678e-04 - digit3_loss: 9.6006e-04 - digit4_loss: 0.0021 - digit1_acc: 0.9990 - digit2_acc: 1.0000 - digit3_acc: 0.9995 - digit4_acc: 0.9990 - val_loss: 0.6284 - val_digit1_loss: 0.2075 - val_digit2_loss: 0.0941 - val_digit3_loss: 0.0926 - val_digit4_loss: 0.2342 - val_digit1_acc: 0.9333 - val_digit2_acc: 0.9833 - val_digit3_acc: 0.9800 - val_digit4_acc: 0.9500\n",
      "Epoch 57/300\n",
      "2001/2001 [==============================] - 21s 10ms/step - loss: 0.0047 - digit1_loss: 0.0028 - digit2_loss: 9.7125e-04 - digit3_loss: 1.5424e-04 - digit4_loss: 7.7007e-04 - digit1_acc: 0.9990 - digit2_acc: 1.0000 - digit3_acc: 1.0000 - digit4_acc: 1.0000 - val_loss: 0.7076 - val_digit1_loss: 0.2818 - val_digit2_loss: 0.0955 - val_digit3_loss: 0.1032 - val_digit4_loss: 0.2271 - val_digit1_acc: 0.9300 - val_digit2_acc: 0.9733 - val_digit3_acc: 0.9833 - val_digit4_acc: 0.9533\n",
      "Epoch 58/300\n",
      "2001/2001 [==============================] - 21s 10ms/step - loss: 0.0026 - digit1_loss: 5.6626e-04 - digit2_loss: 6.3942e-04 - digit3_loss: 3.1715e-04 - digit4_loss: 0.0011 - digit1_acc: 0.9995 - digit2_acc: 0.9995 - digit3_acc: 1.0000 - digit4_acc: 0.9995 - val_loss: 0.6830 - val_digit1_loss: 0.2381 - val_digit2_loss: 0.0732 - val_digit3_loss: 0.1078 - val_digit4_loss: 0.2640 - val_digit1_acc: 0.9367 - val_digit2_acc: 0.9833 - val_digit3_acc: 0.9800 - val_digit4_acc: 0.9367\n",
      "Epoch 59/300\n",
      "2001/2001 [==============================] - 21s 10ms/step - loss: 0.0059 - digit1_loss: 0.0013 - digit2_loss: 0.0017 - digit3_loss: 1.6870e-04 - digit4_loss: 0.0028 - digit1_acc: 0.9995 - digit2_acc: 0.9990 - digit3_acc: 1.0000 - digit4_acc: 0.9985 - val_loss: 0.6656 - val_digit1_loss: 0.2304 - val_digit2_loss: 0.0745 - val_digit3_loss: 0.1108 - val_digit4_loss: 0.2500 - val_digit1_acc: 0.9433 - val_digit2_acc: 0.9700 - val_digit3_acc: 0.9833 - val_digit4_acc: 0.9333\n",
      "Epoch 60/300\n",
      "2001/2001 [==============================] - 21s 10ms/step - loss: 0.0012 - digit1_loss: 4.6611e-04 - digit2_loss: 3.4050e-04 - digit3_loss: 2.5195e-04 - digit4_loss: 1.5517e-04 - digit1_acc: 1.0000 - digit2_acc: 1.0000 - digit3_acc: 1.0000 - digit4_acc: 1.0000 - val_loss: 0.6890 - val_digit1_loss: 0.2184 - val_digit2_loss: 0.0641 - val_digit3_loss: 0.1205 - val_digit4_loss: 0.2860 - val_digit1_acc: 0.9367 - val_digit2_acc: 0.9833 - val_digit3_acc: 0.9800 - val_digit4_acc: 0.9233\n",
      "Epoch 61/300\n",
      "2001/2001 [==============================] - 21s 10ms/step - loss: 0.0046 - digit1_loss: 0.0040 - digit2_loss: 2.1884e-04 - digit3_loss: 2.3689e-04 - digit4_loss: 1.8439e-04 - digit1_acc: 0.9990 - digit2_acc: 1.0000 - digit3_acc: 1.0000 - digit4_acc: 1.0000 - val_loss: 0.6158 - val_digit1_loss: 0.1979 - val_digit2_loss: 0.0772 - val_digit3_loss: 0.0922 - val_digit4_loss: 0.2486 - val_digit1_acc: 0.9500 - val_digit2_acc: 0.9767 - val_digit3_acc: 0.9867 - val_digit4_acc: 0.9467\n",
      "Epoch 62/300\n",
      "2001/2001 [==============================] - 21s 10ms/step - loss: 0.0019 - digit1_loss: 5.6911e-04 - digit2_loss: 8.0416e-04 - digit3_loss: 1.9032e-04 - digit4_loss: 3.7645e-04 - digit1_acc: 0.9995 - digit2_acc: 1.0000 - digit3_acc: 1.0000 - digit4_acc: 1.0000 - val_loss: 0.7680 - val_digit1_loss: 0.2571 - val_digit2_loss: 0.1051 - val_digit3_loss: 0.1328 - val_digit4_loss: 0.2730 - val_digit1_acc: 0.9400 - val_digit2_acc: 0.9633 - val_digit3_acc: 0.9800 - val_digit4_acc: 0.9367\n",
      "Epoch 63/300\n",
      "2001/2001 [==============================] - 21s 10ms/step - loss: 0.0027 - digit1_loss: 0.0017 - digit2_loss: 3.1710e-04 - digit3_loss: 4.3715e-04 - digit4_loss: 2.2535e-04 - digit1_acc: 0.9995 - digit2_acc: 1.0000 - digit3_acc: 1.0000 - digit4_acc: 1.0000 - val_loss: 0.7184 - val_digit1_loss: 0.2650 - val_digit2_loss: 0.0852 - val_digit3_loss: 0.1405 - val_digit4_loss: 0.2276 - val_digit1_acc: 0.9400 - val_digit2_acc: 0.9733 - val_digit3_acc: 0.9800 - val_digit4_acc: 0.9433\n",
      "Epoch 64/300\n",
      "2001/2001 [==============================] - 21s 10ms/step - loss: 0.0046 - digit1_loss: 0.0026 - digit2_loss: 3.3279e-04 - digit3_loss: 6.9958e-04 - digit4_loss: 9.0454e-04 - digit1_acc: 0.9990 - digit2_acc: 1.0000 - digit3_acc: 0.9995 - digit4_acc: 0.9995 - val_loss: 0.6875 - val_digit1_loss: 0.2047 - val_digit2_loss: 0.0955 - val_digit3_loss: 0.1460 - val_digit4_loss: 0.2413 - val_digit1_acc: 0.9500 - val_digit2_acc: 0.9733 - val_digit3_acc: 0.9767 - val_digit4_acc: 0.9333\n",
      "Epoch 65/300\n",
      "2001/2001 [==============================] - 21s 10ms/step - loss: 0.0036 - digit1_loss: 0.0011 - digit2_loss: 0.0020 - digit3_loss: 2.1375e-04 - digit4_loss: 2.6396e-04 - digit1_acc: 0.9995 - digit2_acc: 0.9995 - digit3_acc: 1.0000 - digit4_acc: 1.0000 - val_loss: 0.7414 - val_digit1_loss: 0.2229 - val_digit2_loss: 0.1000 - val_digit3_loss: 0.1549 - val_digit4_loss: 0.2636 - val_digit1_acc: 0.9433 - val_digit2_acc: 0.9767 - val_digit3_acc: 0.9800 - val_digit4_acc: 0.9300\n",
      "Epoch 66/300\n",
      "2001/2001 [==============================] - 20s 10ms/step - loss: 0.0049 - digit1_loss: 1.8673e-04 - digit2_loss: 1.6970e-04 - digit3_loss: 0.0031 - digit4_loss: 0.0014 - digit1_acc: 1.0000 - digit2_acc: 1.0000 - digit3_acc: 0.9990 - digit4_acc: 0.9995 - val_loss: 0.7074 - val_digit1_loss: 0.2575 - val_digit2_loss: 0.0884 - val_digit3_loss: 0.1420 - val_digit4_loss: 0.2195 - val_digit1_acc: 0.9400 - val_digit2_acc: 0.9767 - val_digit3_acc: 0.9800 - val_digit4_acc: 0.9500\n",
      "Epoch 67/300\n",
      "2001/2001 [==============================] - 20s 10ms/step - loss: 0.0012 - digit1_loss: 2.8176e-04 - digit2_loss: 3.8452e-04 - digit3_loss: 4.0547e-04 - digit4_loss: 1.4426e-04 - digit1_acc: 1.0000 - digit2_acc: 1.0000 - digit3_acc: 1.0000 - digit4_acc: 1.0000 - val_loss: 0.7854 - val_digit1_loss: 0.2732 - val_digit2_loss: 0.0740 - val_digit3_loss: 0.1672 - val_digit4_loss: 0.2710 - val_digit1_acc: 0.9400 - val_digit2_acc: 0.9833 - val_digit3_acc: 0.9767 - val_digit4_acc: 0.9500\n",
      "Epoch 68/300\n",
      "2001/2001 [==============================] - 20s 10ms/step - loss: 0.0013 - digit1_loss: 3.9961e-04 - digit2_loss: 4.2731e-04 - digit3_loss: 1.3508e-04 - digit4_loss: 3.1936e-04 - digit1_acc: 1.0000 - digit2_acc: 1.0000 - digit3_acc: 1.0000 - digit4_acc: 1.0000 - val_loss: 0.7225 - val_digit1_loss: 0.2482 - val_digit2_loss: 0.0745 - val_digit3_loss: 0.1249 - val_digit4_loss: 0.2749 - val_digit1_acc: 0.9433 - val_digit2_acc: 0.9767 - val_digit3_acc: 0.9867 - val_digit4_acc: 0.9467\n"
     ]
    },
    {
     "name": "stdout",
     "output_type": "stream",
     "text": [
      "Epoch 69/300\n",
      "2001/2001 [==============================] - 21s 10ms/step - loss: 0.0021 - digit1_loss: 6.3021e-04 - digit2_loss: 7.5659e-04 - digit3_loss: 5.8697e-04 - digit4_loss: 1.4358e-04 - digit1_acc: 1.0000 - digit2_acc: 0.9995 - digit3_acc: 1.0000 - digit4_acc: 1.0000 - val_loss: 0.7335 - val_digit1_loss: 0.2467 - val_digit2_loss: 0.0822 - val_digit3_loss: 0.1438 - val_digit4_loss: 0.2608 - val_digit1_acc: 0.9367 - val_digit2_acc: 0.9800 - val_digit3_acc: 0.9800 - val_digit4_acc: 0.9433\n",
      "Epoch 70/300\n",
      "2001/2001 [==============================] - 21s 10ms/step - loss: 9.6322e-04 - digit1_loss: 2.9091e-04 - digit2_loss: 3.7827e-04 - digit3_loss: 1.9111e-04 - digit4_loss: 1.0292e-04 - digit1_acc: 1.0000 - digit2_acc: 1.0000 - digit3_acc: 1.0000 - digit4_acc: 1.0000 - val_loss: 0.7375 - val_digit1_loss: 0.2568 - val_digit2_loss: 0.0952 - val_digit3_loss: 0.1348 - val_digit4_loss: 0.2507 - val_digit1_acc: 0.9333 - val_digit2_acc: 0.9767 - val_digit3_acc: 0.9800 - val_digit4_acc: 0.9367\n",
      "Epoch 71/300\n",
      "2001/2001 [==============================] - 21s 10ms/step - loss: 0.0010 - digit1_loss: 1.8449e-04 - digit2_loss: 4.3940e-04 - digit3_loss: 1.4300e-04 - digit4_loss: 2.4067e-04 - digit1_acc: 1.0000 - digit2_acc: 1.0000 - digit3_acc: 1.0000 - digit4_acc: 1.0000 - val_loss: 0.8694 - val_digit1_loss: 0.3412 - val_digit2_loss: 0.1026 - val_digit3_loss: 0.1461 - val_digit4_loss: 0.2796 - val_digit1_acc: 0.9300 - val_digit2_acc: 0.9767 - val_digit3_acc: 0.9833 - val_digit4_acc: 0.9400\n",
      "Epoch 72/300\n",
      "2001/2001 [==============================] - 21s 10ms/step - loss: 0.0015 - digit1_loss: 1.8887e-04 - digit2_loss: 7.6457e-04 - digit3_loss: 2.4064e-04 - digit4_loss: 2.9514e-04 - digit1_acc: 1.0000 - digit2_acc: 1.0000 - digit3_acc: 1.0000 - digit4_acc: 1.0000 - val_loss: 0.8451 - val_digit1_loss: 0.3403 - val_digit2_loss: 0.0972 - val_digit3_loss: 0.1230 - val_digit4_loss: 0.2845 - val_digit1_acc: 0.9300 - val_digit2_acc: 0.9700 - val_digit3_acc: 0.9767 - val_digit4_acc: 0.9467\n",
      "Epoch 73/300\n",
      "2001/2001 [==============================] - 21s 10ms/step - loss: 0.0019 - digit1_loss: 9.3257e-04 - digit2_loss: 1.1231e-04 - digit3_loss: 1.0087e-04 - digit4_loss: 7.0497e-04 - digit1_acc: 0.9995 - digit2_acc: 1.0000 - digit3_acc: 1.0000 - digit4_acc: 0.9995 - val_loss: 0.7704 - val_digit1_loss: 0.2556 - val_digit2_loss: 0.0882 - val_digit3_loss: 0.1113 - val_digit4_loss: 0.3154 - val_digit1_acc: 0.9467 - val_digit2_acc: 0.9800 - val_digit3_acc: 0.9800 - val_digit4_acc: 0.9367\n",
      "Epoch 74/300\n",
      "2001/2001 [==============================] - 21s 10ms/step - loss: 0.0025 - digit1_loss: 3.4248e-04 - digit2_loss: 2.8609e-04 - digit3_loss: 0.0014 - digit4_loss: 4.9671e-04 - digit1_acc: 1.0000 - digit2_acc: 1.0000 - digit3_acc: 0.9995 - digit4_acc: 0.9995 - val_loss: 0.7390 - val_digit1_loss: 0.2459 - val_digit2_loss: 0.0794 - val_digit3_loss: 0.1122 - val_digit4_loss: 0.3014 - val_digit1_acc: 0.9467 - val_digit2_acc: 0.9833 - val_digit3_acc: 0.9900 - val_digit4_acc: 0.9333\n",
      "Epoch 75/300\n",
      "2001/2001 [==============================] - 21s 10ms/step - loss: 0.0049 - digit1_loss: 1.4723e-04 - digit2_loss: 0.0040 - digit3_loss: 8.7077e-05 - digit4_loss: 5.9713e-04 - digit1_acc: 1.0000 - digit2_acc: 0.9995 - digit3_acc: 1.0000 - digit4_acc: 1.0000 - val_loss: 0.7378 - val_digit1_loss: 0.2750 - val_digit2_loss: 0.0858 - val_digit3_loss: 0.1513 - val_digit4_loss: 0.2257 - val_digit1_acc: 0.9467 - val_digit2_acc: 0.9833 - val_digit3_acc: 0.9733 - val_digit4_acc: 0.9567\n",
      "Epoch 76/300\n",
      "2001/2001 [==============================] - 21s 10ms/step - loss: 0.0022 - digit1_loss: 0.0017 - digit2_loss: 1.5267e-04 - digit3_loss: 6.0413e-05 - digit4_loss: 2.9097e-04 - digit1_acc: 0.9995 - digit2_acc: 1.0000 - digit3_acc: 1.0000 - digit4_acc: 1.0000 - val_loss: 0.7390 - val_digit1_loss: 0.2444 - val_digit2_loss: 0.0982 - val_digit3_loss: 0.1443 - val_digit4_loss: 0.2522 - val_digit1_acc: 0.9400 - val_digit2_acc: 0.9733 - val_digit3_acc: 0.9767 - val_digit4_acc: 0.9333\n",
      "Epoch 77/300\n",
      "2001/2001 [==============================] - 21s 10ms/step - loss: 0.0019 - digit1_loss: 2.2724e-04 - digit2_loss: 0.0013 - digit3_loss: 7.3094e-05 - digit4_loss: 2.5736e-04 - digit1_acc: 1.0000 - digit2_acc: 0.9995 - digit3_acc: 1.0000 - digit4_acc: 1.0000 - val_loss: 0.6790 - val_digit1_loss: 0.1961 - val_digit2_loss: 0.0866 - val_digit3_loss: 0.1411 - val_digit4_loss: 0.2553 - val_digit1_acc: 0.9600 - val_digit2_acc: 0.9767 - val_digit3_acc: 0.9767 - val_digit4_acc: 0.9433\n",
      "Epoch 78/300\n",
      "2001/2001 [==============================] - 20s 10ms/step - loss: 6.6942e-04 - digit1_loss: 2.8522e-04 - digit2_loss: 1.9060e-04 - digit3_loss: 8.4229e-05 - digit4_loss: 1.0937e-04 - digit1_acc: 1.0000 - digit2_acc: 1.0000 - digit3_acc: 1.0000 - digit4_acc: 1.0000 - val_loss: 0.6724 - val_digit1_loss: 0.1991 - val_digit2_loss: 0.0975 - val_digit3_loss: 0.1137 - val_digit4_loss: 0.2621 - val_digit1_acc: 0.9600 - val_digit2_acc: 0.9800 - val_digit3_acc: 0.9800 - val_digit4_acc: 0.9367\n",
      "Epoch 79/300\n",
      "2001/2001 [==============================] - 20s 10ms/step - loss: 0.0025 - digit1_loss: 5.4373e-04 - digit2_loss: 0.0016 - digit3_loss: 2.2760e-04 - digit4_loss: 9.6151e-05 - digit1_acc: 0.9995 - digit2_acc: 0.9985 - digit3_acc: 1.0000 - digit4_acc: 1.0000 - val_loss: 0.6882 - val_digit1_loss: 0.2046 - val_digit2_loss: 0.1078 - val_digit3_loss: 0.1144 - val_digit4_loss: 0.2614 - val_digit1_acc: 0.9633 - val_digit2_acc: 0.9800 - val_digit3_acc: 0.9833 - val_digit4_acc: 0.9300\n",
      "Epoch 80/300\n",
      "2001/2001 [==============================] - 21s 10ms/step - loss: 9.9795e-04 - digit1_loss: 1.7189e-04 - digit2_loss: 5.6848e-04 - digit3_loss: 2.1952e-04 - digit4_loss: 3.8073e-05 - digit1_acc: 1.0000 - digit2_acc: 1.0000 - digit3_acc: 1.0000 - digit4_acc: 1.0000 - val_loss: 0.6428 - val_digit1_loss: 0.2193 - val_digit2_loss: 0.0803 - val_digit3_loss: 0.1060 - val_digit4_loss: 0.2372 - val_digit1_acc: 0.9567 - val_digit2_acc: 0.9767 - val_digit3_acc: 0.9833 - val_digit4_acc: 0.9333\n",
      "Epoch 81/300\n",
      "2001/2001 [==============================] - 21s 10ms/step - loss: 0.0027 - digit1_loss: 4.6248e-04 - digit2_loss: 0.0013 - digit3_loss: 3.9842e-05 - digit4_loss: 8.7262e-04 - digit1_acc: 1.0000 - digit2_acc: 0.9990 - digit3_acc: 1.0000 - digit4_acc: 0.9995 - val_loss: 0.7388 - val_digit1_loss: 0.2394 - val_digit2_loss: 0.0943 - val_digit3_loss: 0.1416 - val_digit4_loss: 0.2635 - val_digit1_acc: 0.9533 - val_digit2_acc: 0.9733 - val_digit3_acc: 0.9800 - val_digit4_acc: 0.9433\n",
      "Epoch 82/300\n",
      "2001/2001 [==============================] - 21s 10ms/step - loss: 6.8175e-04 - digit1_loss: 3.4558e-04 - digit2_loss: 2.2565e-04 - digit3_loss: 4.0412e-05 - digit4_loss: 7.0099e-05 - digit1_acc: 1.0000 - digit2_acc: 1.0000 - digit3_acc: 1.0000 - digit4_acc: 1.0000 - val_loss: 0.6841 - val_digit1_loss: 0.2363 - val_digit2_loss: 0.0896 - val_digit3_loss: 0.1151 - val_digit4_loss: 0.2430 - val_digit1_acc: 0.9567 - val_digit2_acc: 0.9700 - val_digit3_acc: 0.9800 - val_digit4_acc: 0.9400\n",
      "Epoch 83/300\n",
      "2001/2001 [==============================] - 20s 10ms/step - loss: 0.0042 - digit1_loss: 0.0024 - digit2_loss: 9.4505e-04 - digit3_loss: 7.3880e-04 - digit4_loss: 3.5228e-05 - digit1_acc: 0.9995 - digit2_acc: 0.9995 - digit3_acc: 0.9990 - digit4_acc: 1.0000 - val_loss: 0.7579 - val_digit1_loss: 0.2567 - val_digit2_loss: 0.1107 - val_digit3_loss: 0.1339 - val_digit4_loss: 0.2566 - val_digit1_acc: 0.9533 - val_digit2_acc: 0.9700 - val_digit3_acc: 0.9767 - val_digit4_acc: 0.9300\n",
      "Epoch 84/300\n",
      "2001/2001 [==============================] - 21s 10ms/step - loss: 0.0020 - digit1_loss: 0.0014 - digit2_loss: 4.4441e-04 - digit3_loss: 3.2957e-05 - digit4_loss: 1.1155e-04 - digit1_acc: 0.9990 - digit2_acc: 1.0000 - digit3_acc: 1.0000 - digit4_acc: 1.0000 - val_loss: 0.6932 - val_digit1_loss: 0.2307 - val_digit2_loss: 0.1004 - val_digit3_loss: 0.1195 - val_digit4_loss: 0.2427 - val_digit1_acc: 0.9567 - val_digit2_acc: 0.9733 - val_digit3_acc: 0.9833 - val_digit4_acc: 0.9400\n",
      "Epoch 85/300\n"
     ]
    },
    {
     "name": "stdout",
     "output_type": "stream",
     "text": [
      "2001/2001 [==============================] - 21s 11ms/step - loss: 0.0014 - digit1_loss: 0.0011 - digit2_loss: 1.3461e-04 - digit3_loss: 3.4308e-05 - digit4_loss: 2.0152e-04 - digit1_acc: 0.9995 - digit2_acc: 1.0000 - digit3_acc: 1.0000 - digit4_acc: 1.0000 - val_loss: 0.7488 - val_digit1_loss: 0.2552 - val_digit2_loss: 0.1029 - val_digit3_loss: 0.1282 - val_digit4_loss: 0.2625 - val_digit1_acc: 0.9533 - val_digit2_acc: 0.9767 - val_digit3_acc: 0.9767 - val_digit4_acc: 0.9400\n",
      "Epoch 86/300\n",
      "2001/2001 [==============================] - 21s 10ms/step - loss: 0.0013 - digit1_loss: 3.4775e-04 - digit2_loss: 1.0028e-04 - digit3_loss: 8.5042e-04 - digit4_loss: 1.8315e-05 - digit1_acc: 1.0000 - digit2_acc: 1.0000 - digit3_acc: 0.9995 - digit4_acc: 1.0000 - val_loss: 0.7233 - val_digit1_loss: 0.2534 - val_digit2_loss: 0.0877 - val_digit3_loss: 0.1028 - val_digit4_loss: 0.2795 - val_digit1_acc: 0.9467 - val_digit2_acc: 0.9767 - val_digit3_acc: 0.9867 - val_digit4_acc: 0.9400\n",
      "Epoch 87/300\n",
      "2001/2001 [==============================] - 21s 11ms/step - loss: 5.8935e-04 - digit1_loss: 3.0898e-04 - digit2_loss: 1.1587e-04 - digit3_loss: 8.2564e-05 - digit4_loss: 8.1933e-05 - digit1_acc: 1.0000 - digit2_acc: 1.0000 - digit3_acc: 1.0000 - digit4_acc: 1.0000 - val_loss: 0.8059 - val_digit1_loss: 0.2964 - val_digit2_loss: 0.1034 - val_digit3_loss: 0.1182 - val_digit4_loss: 0.2880 - val_digit1_acc: 0.9400 - val_digit2_acc: 0.9733 - val_digit3_acc: 0.9767 - val_digit4_acc: 0.9400\n",
      "Epoch 88/300\n",
      "2001/2001 [==============================] - 22s 11ms/step - loss: 3.3370e-04 - digit1_loss: 1.5811e-05 - digit2_loss: 1.6372e-04 - digit3_loss: 1.1340e-04 - digit4_loss: 4.0770e-05 - digit1_acc: 1.0000 - digit2_acc: 1.0000 - digit3_acc: 1.0000 - digit4_acc: 1.0000 - val_loss: 0.7501 - val_digit1_loss: 0.2468 - val_digit2_loss: 0.1085 - val_digit3_loss: 0.1187 - val_digit4_loss: 0.2761 - val_digit1_acc: 0.9533 - val_digit2_acc: 0.9700 - val_digit3_acc: 0.9767 - val_digit4_acc: 0.9467\n",
      "Epoch 89/300\n",
      "2001/2001 [==============================] - 22s 11ms/step - loss: 0.0010 - digit1_loss: 1.9783e-04 - digit2_loss: 4.2507e-04 - digit3_loss: 1.5691e-04 - digit4_loss: 2.6051e-04 - digit1_acc: 1.0000 - digit2_acc: 1.0000 - digit3_acc: 1.0000 - digit4_acc: 1.0000 - val_loss: 0.7518 - val_digit1_loss: 0.2660 - val_digit2_loss: 0.1220 - val_digit3_loss: 0.1351 - val_digit4_loss: 0.2287 - val_digit1_acc: 0.9533 - val_digit2_acc: 0.9767 - val_digit3_acc: 0.9800 - val_digit4_acc: 0.9433\n",
      "Epoch 90/300\n",
      "2001/2001 [==============================] - 22s 11ms/step - loss: 0.0011 - digit1_loss: 2.4328e-05 - digit2_loss: 1.7267e-04 - digit3_loss: 3.6388e-04 - digit4_loss: 5.0241e-04 - digit1_acc: 1.0000 - digit2_acc: 1.0000 - digit3_acc: 1.0000 - digit4_acc: 0.9995 - val_loss: 0.7193 - val_digit1_loss: 0.2080 - val_digit2_loss: 0.1148 - val_digit3_loss: 0.1405 - val_digit4_loss: 0.2561 - val_digit1_acc: 0.9467 - val_digit2_acc: 0.9733 - val_digit3_acc: 0.9767 - val_digit4_acc: 0.9533\n",
      "Epoch 91/300\n",
      "2001/2001 [==============================] - 21s 11ms/step - loss: 8.5122e-04 - digit1_loss: 2.5048e-04 - digit2_loss: 5.5010e-05 - digit3_loss: 1.4174e-04 - digit4_loss: 4.0399e-04 - digit1_acc: 1.0000 - digit2_acc: 1.0000 - digit3_acc: 1.0000 - digit4_acc: 0.9995 - val_loss: 0.8072 - val_digit1_loss: 0.2118 - val_digit2_loss: 0.1144 - val_digit3_loss: 0.1808 - val_digit4_loss: 0.3001 - val_digit1_acc: 0.9533 - val_digit2_acc: 0.9800 - val_digit3_acc: 0.9733 - val_digit4_acc: 0.9467\n",
      "Epoch 92/300\n",
      "2001/2001 [==============================] - 22s 11ms/step - loss: 0.0015 - digit1_loss: 9.8541e-05 - digit2_loss: 0.0011 - digit3_loss: 2.2002e-04 - digit4_loss: 9.4150e-05 - digit1_acc: 1.0000 - digit2_acc: 0.9995 - digit3_acc: 1.0000 - digit4_acc: 1.0000 - val_loss: 0.7663 - val_digit1_loss: 0.2145 - val_digit2_loss: 0.1086 - val_digit3_loss: 0.1529 - val_digit4_loss: 0.2903 - val_digit1_acc: 0.9533 - val_digit2_acc: 0.9800 - val_digit3_acc: 0.9733 - val_digit4_acc: 0.9433\n",
      "Epoch 93/300\n",
      "2001/2001 [==============================] - 22s 11ms/step - loss: 0.0037 - digit1_loss: 0.0027 - digit2_loss: 7.3529e-04 - digit3_loss: 1.0515e-04 - digit4_loss: 1.7534e-04 - digit1_acc: 0.9995 - digit2_acc: 0.9995 - digit3_acc: 1.0000 - digit4_acc: 1.0000 - val_loss: 0.7840 - val_digit1_loss: 0.2226 - val_digit2_loss: 0.0983 - val_digit3_loss: 0.1605 - val_digit4_loss: 0.3025 - val_digit1_acc: 0.9567 - val_digit2_acc: 0.9767 - val_digit3_acc: 0.9733 - val_digit4_acc: 0.9367\n",
      "Epoch 94/300\n",
      "2001/2001 [==============================] - 22s 11ms/step - loss: 0.0032 - digit1_loss: 0.0015 - digit2_loss: 0.0015 - digit3_loss: 1.6401e-05 - digit4_loss: 2.1230e-04 - digit1_acc: 0.9995 - digit2_acc: 0.9990 - digit3_acc: 1.0000 - digit4_acc: 1.0000 - val_loss: 0.7992 - val_digit1_loss: 0.2472 - val_digit2_loss: 0.1121 - val_digit3_loss: 0.1568 - val_digit4_loss: 0.2830 - val_digit1_acc: 0.9467 - val_digit2_acc: 0.9733 - val_digit3_acc: 0.9800 - val_digit4_acc: 0.9367\n",
      "Epoch 95/300\n",
      "2001/2001 [==============================] - 22s 11ms/step - loss: 0.0037 - digit1_loss: 0.0021 - digit2_loss: 6.1468e-04 - digit3_loss: 1.6652e-04 - digit4_loss: 8.4808e-04 - digit1_acc: 0.9995 - digit2_acc: 0.9995 - digit3_acc: 1.0000 - digit4_acc: 0.9995 - val_loss: 0.8298 - val_digit1_loss: 0.2648 - val_digit2_loss: 0.1325 - val_digit3_loss: 0.1727 - val_digit4_loss: 0.2599 - val_digit1_acc: 0.9433 - val_digit2_acc: 0.9733 - val_digit3_acc: 0.9767 - val_digit4_acc: 0.9467\n",
      "Epoch 96/300\n",
      "2001/2001 [==============================] - 22s 11ms/step - loss: 7.4709e-04 - digit1_loss: 2.2439e-04 - digit2_loss: 1.6771e-04 - digit3_loss: 2.7776e-04 - digit4_loss: 7.7228e-05 - digit1_acc: 1.0000 - digit2_acc: 1.0000 - digit3_acc: 1.0000 - digit4_acc: 1.0000 - val_loss: 0.7691 - val_digit1_loss: 0.2477 - val_digit2_loss: 0.1160 - val_digit3_loss: 0.1638 - val_digit4_loss: 0.2415 - val_digit1_acc: 0.9433 - val_digit2_acc: 0.9700 - val_digit3_acc: 0.9767 - val_digit4_acc: 0.9533\n",
      "Epoch 97/300\n",
      "2001/2001 [==============================] - 22s 11ms/step - loss: 0.0011 - digit1_loss: 2.7138e-04 - digit2_loss: 3.5466e-04 - digit3_loss: 6.8470e-05 - digit4_loss: 4.1267e-04 - digit1_acc: 1.0000 - digit2_acc: 1.0000 - digit3_acc: 1.0000 - digit4_acc: 1.0000 - val_loss: 0.7488 - val_digit1_loss: 0.1995 - val_digit2_loss: 0.1218 - val_digit3_loss: 0.1711 - val_digit4_loss: 0.2564 - val_digit1_acc: 0.9500 - val_digit2_acc: 0.9733 - val_digit3_acc: 0.9767 - val_digit4_acc: 0.9500\n",
      "Epoch 98/300\n",
      "2001/2001 [==============================] - 22s 11ms/step - loss: 0.0015 - digit1_loss: 0.0012 - digit2_loss: 3.4075e-05 - digit3_loss: 2.0517e-04 - digit4_loss: 1.6203e-05 - digit1_acc: 0.9995 - digit2_acc: 1.0000 - digit3_acc: 1.0000 - digit4_acc: 1.0000 - val_loss: 0.7039 - val_digit1_loss: 0.1807 - val_digit2_loss: 0.1198 - val_digit3_loss: 0.1799 - val_digit4_loss: 0.2235 - val_digit1_acc: 0.9567 - val_digit2_acc: 0.9700 - val_digit3_acc: 0.9767 - val_digit4_acc: 0.9533\n",
      "Epoch 99/300\n",
      "2001/2001 [==============================] - 22s 11ms/step - loss: 0.0011 - digit1_loss: 5.0373e-04 - digit2_loss: 2.0699e-04 - digit3_loss: 1.8659e-04 - digit4_loss: 2.3097e-04 - digit1_acc: 0.9995 - digit2_acc: 1.0000 - digit3_acc: 1.0000 - digit4_acc: 1.0000 - val_loss: 0.8293 - val_digit1_loss: 0.2405 - val_digit2_loss: 0.1499 - val_digit3_loss: 0.1823 - val_digit4_loss: 0.2566 - val_digit1_acc: 0.9533 - val_digit2_acc: 0.9633 - val_digit3_acc: 0.9733 - val_digit4_acc: 0.9500\n",
      "Epoch 100/300\n",
      "2001/2001 [==============================] - 22s 11ms/step - loss: 5.2266e-04 - digit1_loss: 1.5059e-04 - digit2_loss: 1.7606e-04 - digit3_loss: 6.3411e-05 - digit4_loss: 1.3260e-04 - digit1_acc: 1.0000 - digit2_acc: 1.0000 - digit3_acc: 1.0000 - digit4_acc: 1.0000 - val_loss: 0.7080 - val_digit1_loss: 0.1761 - val_digit2_loss: 0.1250 - val_digit3_loss: 0.1257 - val_digit4_loss: 0.2812 - val_digit1_acc: 0.9533 - val_digit2_acc: 0.9700 - val_digit3_acc: 0.9800 - val_digit4_acc: 0.9467\n",
      "Epoch 101/300\n"
     ]
    },
    {
     "name": "stdout",
     "output_type": "stream",
     "text": [
      "2001/2001 [==============================] - 22s 11ms/step - loss: 5.8508e-04 - digit1_loss: 3.4488e-04 - digit2_loss: 2.8234e-05 - digit3_loss: 1.2540e-04 - digit4_loss: 8.6572e-05 - digit1_acc: 1.0000 - digit2_acc: 1.0000 - digit3_acc: 1.0000 - digit4_acc: 1.0000 - val_loss: 0.7713 - val_digit1_loss: 0.2386 - val_digit2_loss: 0.1585 - val_digit3_loss: 0.1119 - val_digit4_loss: 0.2623 - val_digit1_acc: 0.9367 - val_digit2_acc: 0.9667 - val_digit3_acc: 0.9767 - val_digit4_acc: 0.9400\n",
      "Epoch 102/300\n",
      "2001/2001 [==============================] - 22s 11ms/step - loss: 9.7307e-04 - digit1_loss: 8.1797e-04 - digit2_loss: 5.4061e-05 - digit3_loss: 7.2873e-05 - digit4_loss: 2.8169e-05 - digit1_acc: 0.9995 - digit2_acc: 1.0000 - digit3_acc: 1.0000 - digit4_acc: 1.0000 - val_loss: 0.8152 - val_digit1_loss: 0.2260 - val_digit2_loss: 0.1437 - val_digit3_loss: 0.1462 - val_digit4_loss: 0.2993 - val_digit1_acc: 0.9400 - val_digit2_acc: 0.9733 - val_digit3_acc: 0.9767 - val_digit4_acc: 0.9367\n",
      "Epoch 103/300\n",
      "2001/2001 [==============================] - 22s 11ms/step - loss: 2.6924e-04 - digit1_loss: 2.5000e-05 - digit2_loss: 1.6611e-04 - digit3_loss: 2.6696e-05 - digit4_loss: 5.1428e-05 - digit1_acc: 1.0000 - digit2_acc: 1.0000 - digit3_acc: 1.0000 - digit4_acc: 1.0000 - val_loss: 0.7475 - val_digit1_loss: 0.1993 - val_digit2_loss: 0.1521 - val_digit3_loss: 0.1192 - val_digit4_loss: 0.2769 - val_digit1_acc: 0.9467 - val_digit2_acc: 0.9733 - val_digit3_acc: 0.9800 - val_digit4_acc: 0.9433\n",
      "Epoch 104/300\n",
      "2001/2001 [==============================] - 22s 11ms/step - loss: 5.7208e-04 - digit1_loss: 6.5560e-05 - digit2_loss: 3.9443e-04 - digit3_loss: 6.5918e-05 - digit4_loss: 4.6165e-05 - digit1_acc: 1.0000 - digit2_acc: 1.0000 - digit3_acc: 1.0000 - digit4_acc: 1.0000 - val_loss: 0.7937 - val_digit1_loss: 0.2443 - val_digit2_loss: 0.1596 - val_digit3_loss: 0.1219 - val_digit4_loss: 0.2679 - val_digit1_acc: 0.9467 - val_digit2_acc: 0.9633 - val_digit3_acc: 0.9833 - val_digit4_acc: 0.9400\n",
      "Epoch 105/300\n",
      "2001/2001 [==============================] - 22s 11ms/step - loss: 4.5541e-04 - digit1_loss: 3.0207e-04 - digit2_loss: 2.2929e-05 - digit3_loss: 6.5011e-05 - digit4_loss: 6.5399e-05 - digit1_acc: 1.0000 - digit2_acc: 1.0000 - digit3_acc: 1.0000 - digit4_acc: 1.0000 - val_loss: 0.7315 - val_digit1_loss: 0.1903 - val_digit2_loss: 0.1248 - val_digit3_loss: 0.1465 - val_digit4_loss: 0.2699 - val_digit1_acc: 0.9633 - val_digit2_acc: 0.9800 - val_digit3_acc: 0.9767 - val_digit4_acc: 0.9433\n",
      "Epoch 106/300\n",
      "2001/2001 [==============================] - 22s 11ms/step - loss: 9.6976e-04 - digit1_loss: 1.8826e-04 - digit2_loss: 3.6886e-05 - digit3_loss: 4.4064e-04 - digit4_loss: 3.0398e-04 - digit1_acc: 1.0000 - digit2_acc: 1.0000 - digit3_acc: 0.9995 - digit4_acc: 1.0000 - val_loss: 0.7114 - val_digit1_loss: 0.1728 - val_digit2_loss: 0.1414 - val_digit3_loss: 0.1252 - val_digit4_loss: 0.2721 - val_digit1_acc: 0.9567 - val_digit2_acc: 0.9733 - val_digit3_acc: 0.9767 - val_digit4_acc: 0.9433\n",
      "Epoch 107/300\n",
      "2001/2001 [==============================] - 22s 11ms/step - loss: 0.0040 - digit1_loss: 2.1138e-05 - digit2_loss: 4.3262e-05 - digit3_loss: 0.0039 - digit4_loss: 4.5046e-05 - digit1_acc: 1.0000 - digit2_acc: 1.0000 - digit3_acc: 0.9990 - digit4_acc: 1.0000 - val_loss: 0.7588 - val_digit1_loss: 0.2130 - val_digit2_loss: 0.1282 - val_digit3_loss: 0.1471 - val_digit4_loss: 0.2705 - val_digit1_acc: 0.9533 - val_digit2_acc: 0.9767 - val_digit3_acc: 0.9800 - val_digit4_acc: 0.9500\n",
      "Epoch 108/300\n",
      "2001/2001 [==============================] - 22s 11ms/step - loss: 2.4946e-04 - digit1_loss: 2.3192e-05 - digit2_loss: 2.0225e-04 - digit3_loss: 7.8372e-06 - digit4_loss: 1.6176e-05 - digit1_acc: 1.0000 - digit2_acc: 1.0000 - digit3_acc: 1.0000 - digit4_acc: 1.0000 - val_loss: 0.7817 - val_digit1_loss: 0.2434 - val_digit2_loss: 0.1242 - val_digit3_loss: 0.1441 - val_digit4_loss: 0.2700 - val_digit1_acc: 0.9500 - val_digit2_acc: 0.9733 - val_digit3_acc: 0.9767 - val_digit4_acc: 0.9500\n",
      "Epoch 109/300\n",
      "2001/2001 [==============================] - 22s 11ms/step - loss: 5.7759e-04 - digit1_loss: 4.0490e-05 - digit2_loss: 9.3959e-05 - digit3_loss: 1.7961e-04 - digit4_loss: 2.6353e-04 - digit1_acc: 1.0000 - digit2_acc: 1.0000 - digit3_acc: 1.0000 - digit4_acc: 1.0000 - val_loss: 0.7781 - val_digit1_loss: 0.2320 - val_digit2_loss: 0.1075 - val_digit3_loss: 0.1560 - val_digit4_loss: 0.2827 - val_digit1_acc: 0.9467 - val_digit2_acc: 0.9833 - val_digit3_acc: 0.9767 - val_digit4_acc: 0.9400\n",
      "Epoch 110/300\n",
      "2001/2001 [==============================] - 22s 11ms/step - loss: 0.0024 - digit1_loss: 6.1793e-04 - digit2_loss: 0.0015 - digit3_loss: 8.6989e-05 - digit4_loss: 1.9179e-04 - digit1_acc: 1.0000 - digit2_acc: 0.9995 - digit3_acc: 1.0000 - digit4_acc: 1.0000 - val_loss: 0.6010 - val_digit1_loss: 0.1272 - val_digit2_loss: 0.1335 - val_digit3_loss: 0.1048 - val_digit4_loss: 0.2355 - val_digit1_acc: 0.9733 - val_digit2_acc: 0.9733 - val_digit3_acc: 0.9833 - val_digit4_acc: 0.9500\n",
      "Epoch 111/300\n",
      "2001/2001 [==============================] - 22s 11ms/step - loss: 5.2625e-04 - digit1_loss: 2.6384e-05 - digit2_loss: 3.5924e-04 - digit3_loss: 9.8461e-05 - digit4_loss: 4.2171e-05 - digit1_acc: 1.0000 - digit2_acc: 1.0000 - digit3_acc: 1.0000 - digit4_acc: 1.0000 - val_loss: 0.6955 - val_digit1_loss: 0.1781 - val_digit2_loss: 0.1305 - val_digit3_loss: 0.1310 - val_digit4_loss: 0.2559 - val_digit1_acc: 0.9567 - val_digit2_acc: 0.9767 - val_digit3_acc: 0.9800 - val_digit4_acc: 0.9467\n",
      "Epoch 112/300\n",
      "2001/2001 [==============================] - 22s 11ms/step - loss: 1.9123e-04 - digit1_loss: 3.2785e-05 - digit2_loss: 6.6979e-05 - digit3_loss: 6.3196e-05 - digit4_loss: 2.8270e-05 - digit1_acc: 1.0000 - digit2_acc: 1.0000 - digit3_acc: 1.0000 - digit4_acc: 1.0000 - val_loss: 0.7593 - val_digit1_loss: 0.1882 - val_digit2_loss: 0.1325 - val_digit3_loss: 0.1510 - val_digit4_loss: 0.2876 - val_digit1_acc: 0.9567 - val_digit2_acc: 0.9767 - val_digit3_acc: 0.9800 - val_digit4_acc: 0.9433\n",
      "Epoch 113/300\n",
      "2001/2001 [==============================] - 22s 11ms/step - loss: 0.0013 - digit1_loss: 1.0143e-04 - digit2_loss: 6.4501e-05 - digit3_loss: 0.0011 - digit4_loss: 4.2669e-05 - digit1_acc: 1.0000 - digit2_acc: 1.0000 - digit3_acc: 0.9995 - digit4_acc: 1.0000 - val_loss: 0.7406 - val_digit1_loss: 0.1892 - val_digit2_loss: 0.1591 - val_digit3_loss: 0.1400 - val_digit4_loss: 0.2523 - val_digit1_acc: 0.9567 - val_digit2_acc: 0.9733 - val_digit3_acc: 0.9833 - val_digit4_acc: 0.9500\n",
      "Epoch 114/300\n",
      "2001/2001 [==============================] - 22s 11ms/step - loss: 4.1892e-04 - digit1_loss: 2.1549e-05 - digit2_loss: 3.2335e-04 - digit3_loss: 4.6272e-06 - digit4_loss: 6.9393e-05 - digit1_acc: 1.0000 - digit2_acc: 1.0000 - digit3_acc: 1.0000 - digit4_acc: 1.0000 - val_loss: 0.7282 - val_digit1_loss: 0.1863 - val_digit2_loss: 0.1610 - val_digit3_loss: 0.1338 - val_digit4_loss: 0.2471 - val_digit1_acc: 0.9533 - val_digit2_acc: 0.9733 - val_digit3_acc: 0.9833 - val_digit4_acc: 0.9467\n",
      "Epoch 115/300\n",
      "2001/2001 [==============================] - 22s 11ms/step - loss: 2.4696e-04 - digit1_loss: 1.6350e-05 - digit2_loss: 6.1518e-05 - digit3_loss: 1.5739e-04 - digit4_loss: 1.1706e-05 - digit1_acc: 1.0000 - digit2_acc: 1.0000 - digit3_acc: 1.0000 - digit4_acc: 1.0000 - val_loss: 0.6657 - val_digit1_loss: 0.1300 - val_digit2_loss: 0.1840 - val_digit3_loss: 0.1156 - val_digit4_loss: 0.2361 - val_digit1_acc: 0.9700 - val_digit2_acc: 0.9733 - val_digit3_acc: 0.9800 - val_digit4_acc: 0.9567\n",
      "Epoch 116/300\n",
      "2001/2001 [==============================] - 22s 11ms/step - loss: 1.8036e-04 - digit1_loss: 4.1546e-05 - digit2_loss: 3.7099e-05 - digit3_loss: 5.9429e-05 - digit4_loss: 4.2285e-05 - digit1_acc: 1.0000 - digit2_acc: 1.0000 - digit3_acc: 1.0000 - digit4_acc: 1.0000 - val_loss: 0.7704 - val_digit1_loss: 0.2373 - val_digit2_loss: 0.1533 - val_digit3_loss: 0.1359 - val_digit4_loss: 0.2440 - val_digit1_acc: 0.9500 - val_digit2_acc: 0.9733 - val_digit3_acc: 0.9833 - val_digit4_acc: 0.9600\n",
      "Epoch 117/300\n"
     ]
    },
    {
     "name": "stdout",
     "output_type": "stream",
     "text": [
      "2001/2001 [==============================] - 22s 11ms/step - loss: 3.6078e-04 - digit1_loss: 1.3872e-04 - digit2_loss: 5.8874e-05 - digit3_loss: 1.3841e-04 - digit4_loss: 2.4780e-05 - digit1_acc: 1.0000 - digit2_acc: 1.0000 - digit3_acc: 1.0000 - digit4_acc: 1.0000 - val_loss: 0.7622 - val_digit1_loss: 0.2035 - val_digit2_loss: 0.1438 - val_digit3_loss: 0.1307 - val_digit4_loss: 0.2841 - val_digit1_acc: 0.9567 - val_digit2_acc: 0.9733 - val_digit3_acc: 0.9867 - val_digit4_acc: 0.9467\n",
      "Epoch 118/300\n",
      "2001/2001 [==============================] - 21s 10ms/step - loss: 0.0013 - digit1_loss: 0.0011 - digit2_loss: 9.2073e-05 - digit3_loss: 7.5258e-05 - digit4_loss: 2.5240e-05 - digit1_acc: 0.9995 - digit2_acc: 1.0000 - digit3_acc: 1.0000 - digit4_acc: 1.0000 - val_loss: 0.7184 - val_digit1_loss: 0.1823 - val_digit2_loss: 0.1358 - val_digit3_loss: 0.1349 - val_digit4_loss: 0.2655 - val_digit1_acc: 0.9567 - val_digit2_acc: 0.9700 - val_digit3_acc: 0.9833 - val_digit4_acc: 0.9533\n",
      "Epoch 119/300\n",
      "2001/2001 [==============================] - 21s 10ms/step - loss: 7.5372e-04 - digit1_loss: 4.7557e-06 - digit2_loss: 4.5802e-04 - digit3_loss: 1.0087e-04 - digit4_loss: 1.9008e-04 - digit1_acc: 1.0000 - digit2_acc: 1.0000 - digit3_acc: 1.0000 - digit4_acc: 1.0000 - val_loss: 0.6855 - val_digit1_loss: 0.1739 - val_digit2_loss: 0.1571 - val_digit3_loss: 0.1035 - val_digit4_loss: 0.2510 - val_digit1_acc: 0.9667 - val_digit2_acc: 0.9733 - val_digit3_acc: 0.9867 - val_digit4_acc: 0.9533\n",
      "Epoch 120/300\n",
      "2001/2001 [==============================] - 21s 10ms/step - loss: 8.7887e-04 - digit1_loss: 3.4326e-04 - digit2_loss: 3.5113e-04 - digit3_loss: 1.6180e-04 - digit4_loss: 2.2688e-05 - digit1_acc: 1.0000 - digit2_acc: 1.0000 - digit3_acc: 1.0000 - digit4_acc: 1.0000 - val_loss: 0.7373 - val_digit1_loss: 0.1738 - val_digit2_loss: 0.1895 - val_digit3_loss: 0.1006 - val_digit4_loss: 0.2734 - val_digit1_acc: 0.9700 - val_digit2_acc: 0.9633 - val_digit3_acc: 0.9867 - val_digit4_acc: 0.9467\n",
      "Epoch 121/300\n",
      "2001/2001 [==============================] - 21s 10ms/step - loss: 0.0025 - digit1_loss: 0.0022 - digit2_loss: 1.5266e-04 - digit3_loss: 8.9552e-05 - digit4_loss: 1.0394e-04 - digit1_acc: 0.9995 - digit2_acc: 1.0000 - digit3_acc: 1.0000 - digit4_acc: 1.0000 - val_loss: 0.7366 - val_digit1_loss: 0.1704 - val_digit2_loss: 0.1889 - val_digit3_loss: 0.1129 - val_digit4_loss: 0.2645 - val_digit1_acc: 0.9600 - val_digit2_acc: 0.9600 - val_digit3_acc: 0.9833 - val_digit4_acc: 0.9500\n",
      "Epoch 122/300\n",
      "2001/2001 [==============================] - 21s 10ms/step - loss: 0.0045 - digit1_loss: 8.5750e-04 - digit2_loss: 3.6889e-05 - digit3_loss: 9.4567e-05 - digit4_loss: 0.0035 - digit1_acc: 0.9995 - digit2_acc: 1.0000 - digit3_acc: 1.0000 - digit4_acc: 0.9995 - val_loss: 0.7469 - val_digit1_loss: 0.2136 - val_digit2_loss: 0.1675 - val_digit3_loss: 0.1126 - val_digit4_loss: 0.2532 - val_digit1_acc: 0.9533 - val_digit2_acc: 0.9600 - val_digit3_acc: 0.9867 - val_digit4_acc: 0.9533\n",
      "Epoch 123/300\n",
      "2001/2001 [==============================] - 21s 10ms/step - loss: 0.0017 - digit1_loss: 7.1070e-04 - digit2_loss: 2.3877e-05 - digit3_loss: 6.2137e-04 - digit4_loss: 3.3334e-04 - digit1_acc: 0.9995 - digit2_acc: 1.0000 - digit3_acc: 0.9995 - digit4_acc: 1.0000 - val_loss: 0.7783 - val_digit1_loss: 0.2257 - val_digit2_loss: 0.1822 - val_digit3_loss: 0.1128 - val_digit4_loss: 0.2575 - val_digit1_acc: 0.9533 - val_digit2_acc: 0.9667 - val_digit3_acc: 0.9867 - val_digit4_acc: 0.9567\n",
      "Epoch 124/300\n",
      "2001/2001 [==============================] - 21s 10ms/step - loss: 0.0012 - digit1_loss: 4.1059e-04 - digit2_loss: 1.0694e-04 - digit3_loss: 1.6040e-04 - digit4_loss: 5.5645e-04 - digit1_acc: 1.0000 - digit2_acc: 1.0000 - digit3_acc: 1.0000 - digit4_acc: 0.9995 - val_loss: 0.8826 - val_digit1_loss: 0.2452 - val_digit2_loss: 0.2034 - val_digit3_loss: 0.1377 - val_digit4_loss: 0.2962 - val_digit1_acc: 0.9467 - val_digit2_acc: 0.9633 - val_digit3_acc: 0.9833 - val_digit4_acc: 0.9467\n",
      "Epoch 125/300\n",
      "2001/2001 [==============================] - 21s 10ms/step - loss: 2.2580e-04 - digit1_loss: 5.7085e-05 - digit2_loss: 1.4158e-04 - digit3_loss: 1.0851e-05 - digit4_loss: 1.6281e-05 - digit1_acc: 1.0000 - digit2_acc: 1.0000 - digit3_acc: 1.0000 - digit4_acc: 1.0000 - val_loss: 0.9263 - val_digit1_loss: 0.2650 - val_digit2_loss: 0.2275 - val_digit3_loss: 0.1310 - val_digit4_loss: 0.3029 - val_digit1_acc: 0.9433 - val_digit2_acc: 0.9667 - val_digit3_acc: 0.9833 - val_digit4_acc: 0.9467\n",
      "Epoch 126/300\n",
      "2001/2001 [==============================] - 21s 10ms/step - loss: 3.1994e-04 - digit1_loss: 2.2886e-05 - digit2_loss: 1.6743e-04 - digit3_loss: 4.4278e-05 - digit4_loss: 8.5347e-05 - digit1_acc: 1.0000 - digit2_acc: 1.0000 - digit3_acc: 1.0000 - digit4_acc: 1.0000 - val_loss: 0.7936 - val_digit1_loss: 0.2262 - val_digit2_loss: 0.1916 - val_digit3_loss: 0.0960 - val_digit4_loss: 0.2798 - val_digit1_acc: 0.9533 - val_digit2_acc: 0.9700 - val_digit3_acc: 0.9867 - val_digit4_acc: 0.9567\n",
      "Epoch 127/300\n",
      "2001/2001 [==============================] - 21s 10ms/step - loss: 7.6295e-04 - digit1_loss: 1.7549e-05 - digit2_loss: 1.6264e-04 - digit3_loss: 9.1705e-05 - digit4_loss: 4.9105e-04 - digit1_acc: 1.0000 - digit2_acc: 1.0000 - digit3_acc: 1.0000 - digit4_acc: 0.9995 - val_loss: 0.8317 - val_digit1_loss: 0.2391 - val_digit2_loss: 0.1975 - val_digit3_loss: 0.1087 - val_digit4_loss: 0.2864 - val_digit1_acc: 0.9533 - val_digit2_acc: 0.9667 - val_digit3_acc: 0.9900 - val_digit4_acc: 0.9433\n",
      "Epoch 128/300\n",
      "2001/2001 [==============================] - 21s 10ms/step - loss: 6.7430e-04 - digit1_loss: 2.7046e-04 - digit2_loss: 9.0997e-05 - digit3_loss: 2.0631e-06 - digit4_loss: 3.1078e-04 - digit1_acc: 1.0000 - digit2_acc: 1.0000 - digit3_acc: 1.0000 - digit4_acc: 1.0000 - val_loss: 0.8011 - val_digit1_loss: 0.1930 - val_digit2_loss: 0.1811 - val_digit3_loss: 0.1152 - val_digit4_loss: 0.3118 - val_digit1_acc: 0.9667 - val_digit2_acc: 0.9700 - val_digit3_acc: 0.9867 - val_digit4_acc: 0.9400\n",
      "Epoch 129/300\n",
      "2001/2001 [==============================] - 21s 11ms/step - loss: 8.2392e-04 - digit1_loss: 4.8982e-05 - digit2_loss: 4.7311e-05 - digit3_loss: 4.6209e-04 - digit4_loss: 2.6554e-04 - digit1_acc: 1.0000 - digit2_acc: 1.0000 - digit3_acc: 1.0000 - digit4_acc: 1.0000 - val_loss: 0.7542 - val_digit1_loss: 0.1635 - val_digit2_loss: 0.1639 - val_digit3_loss: 0.1148 - val_digit4_loss: 0.3120 - val_digit1_acc: 0.9700 - val_digit2_acc: 0.9733 - val_digit3_acc: 0.9900 - val_digit4_acc: 0.9467\n",
      "Epoch 130/300\n",
      "2001/2001 [==============================] - 21s 10ms/step - loss: 7.0215e-04 - digit1_loss: 1.9396e-05 - digit2_loss: 6.3116e-04 - digit3_loss: 6.4275e-06 - digit4_loss: 4.5170e-05 - digit1_acc: 1.0000 - digit2_acc: 0.9995 - digit3_acc: 1.0000 - digit4_acc: 1.0000 - val_loss: 0.8033 - val_digit1_loss: 0.1870 - val_digit2_loss: 0.1646 - val_digit3_loss: 0.1291 - val_digit4_loss: 0.3225 - val_digit1_acc: 0.9667 - val_digit2_acc: 0.9700 - val_digit3_acc: 0.9900 - val_digit4_acc: 0.9433\n",
      "Epoch 131/300\n",
      "2001/2001 [==============================] - 21s 10ms/step - loss: 4.4536e-04 - digit1_loss: 8.4335e-05 - digit2_loss: 4.7913e-05 - digit3_loss: 2.6889e-04 - digit4_loss: 4.4217e-05 - digit1_acc: 1.0000 - digit2_acc: 1.0000 - digit3_acc: 1.0000 - digit4_acc: 1.0000 - val_loss: 0.7710 - val_digit1_loss: 0.1610 - val_digit2_loss: 0.1667 - val_digit3_loss: 0.1304 - val_digit4_loss: 0.3128 - val_digit1_acc: 0.9700 - val_digit2_acc: 0.9667 - val_digit3_acc: 0.9867 - val_digit4_acc: 0.9433\n",
      "Epoch 132/300\n",
      "2001/2001 [==============================] - 21s 10ms/step - loss: 0.0021 - digit1_loss: 6.2647e-04 - digit2_loss: 0.0013 - digit3_loss: 1.7076e-04 - digit4_loss: 1.0175e-05 - digit1_acc: 0.9995 - digit2_acc: 0.9995 - digit3_acc: 1.0000 - digit4_acc: 1.0000 - val_loss: 0.7319 - val_digit1_loss: 0.1504 - val_digit2_loss: 0.1837 - val_digit3_loss: 0.1282 - val_digit4_loss: 0.2696 - val_digit1_acc: 0.9767 - val_digit2_acc: 0.9600 - val_digit3_acc: 0.9867 - val_digit4_acc: 0.9533\n",
      "Epoch 133/300\n"
     ]
    },
    {
     "name": "stdout",
     "output_type": "stream",
     "text": [
      "2001/2001 [==============================] - 21s 10ms/step - loss: 1.0327e-04 - digit1_loss: 3.4098e-05 - digit2_loss: 1.4388e-05 - digit3_loss: 8.9705e-06 - digit4_loss: 4.5817e-05 - digit1_acc: 1.0000 - digit2_acc: 1.0000 - digit3_acc: 1.0000 - digit4_acc: 1.0000 - val_loss: 0.7297 - val_digit1_loss: 0.1567 - val_digit2_loss: 0.1861 - val_digit3_loss: 0.1312 - val_digit4_loss: 0.2556 - val_digit1_acc: 0.9733 - val_digit2_acc: 0.9667 - val_digit3_acc: 0.9867 - val_digit4_acc: 0.9500\n",
      "Epoch 134/300\n",
      "2001/2001 [==============================] - 21s 10ms/step - loss: 3.6571e-04 - digit1_loss: 2.0442e-04 - digit2_loss: 1.2018e-04 - digit3_loss: 6.1393e-06 - digit4_loss: 3.4966e-05 - digit1_acc: 1.0000 - digit2_acc: 1.0000 - digit3_acc: 1.0000 - digit4_acc: 1.0000 - val_loss: 0.7032 - val_digit1_loss: 0.1519 - val_digit2_loss: 0.1659 - val_digit3_loss: 0.1327 - val_digit4_loss: 0.2527 - val_digit1_acc: 0.9800 - val_digit2_acc: 0.9700 - val_digit3_acc: 0.9833 - val_digit4_acc: 0.9500\n",
      "Epoch 135/300\n",
      "2001/2001 [==============================] - 21s 10ms/step - loss: 1.1819e-04 - digit1_loss: 1.4362e-05 - digit2_loss: 4.7607e-05 - digit3_loss: 1.2307e-05 - digit4_loss: 4.3914e-05 - digit1_acc: 1.0000 - digit2_acc: 1.0000 - digit3_acc: 1.0000 - digit4_acc: 1.0000 - val_loss: 0.6732 - val_digit1_loss: 0.1415 - val_digit2_loss: 0.1451 - val_digit3_loss: 0.1321 - val_digit4_loss: 0.2545 - val_digit1_acc: 0.9767 - val_digit2_acc: 0.9767 - val_digit3_acc: 0.9867 - val_digit4_acc: 0.9533\n",
      "Epoch 136/300\n",
      "2001/2001 [==============================] - 22s 11ms/step - loss: 4.5822e-04 - digit1_loss: 1.6123e-04 - digit2_loss: 1.2980e-05 - digit3_loss: 1.0114e-04 - digit4_loss: 1.8286e-04 - digit1_acc: 1.0000 - digit2_acc: 1.0000 - digit3_acc: 1.0000 - digit4_acc: 1.0000 - val_loss: 0.7218 - val_digit1_loss: 0.1473 - val_digit2_loss: 0.1765 - val_digit3_loss: 0.1490 - val_digit4_loss: 0.2491 - val_digit1_acc: 0.9700 - val_digit2_acc: 0.9700 - val_digit3_acc: 0.9833 - val_digit4_acc: 0.9467\n",
      "Epoch 137/300\n",
      "2001/2001 [==============================] - 21s 11ms/step - loss: 3.9403e-04 - digit1_loss: 3.1589e-05 - digit2_loss: 3.4683e-04 - digit3_loss: 7.9346e-06 - digit4_loss: 7.6701e-06 - digit1_acc: 1.0000 - digit2_acc: 1.0000 - digit3_acc: 1.0000 - digit4_acc: 1.0000 - val_loss: 0.7236 - val_digit1_loss: 0.1642 - val_digit2_loss: 0.1656 - val_digit3_loss: 0.1534 - val_digit4_loss: 0.2403 - val_digit1_acc: 0.9633 - val_digit2_acc: 0.9733 - val_digit3_acc: 0.9800 - val_digit4_acc: 0.9500\n",
      "Epoch 138/300\n",
      "2001/2001 [==============================] - 21s 10ms/step - loss: 4.3031e-04 - digit1_loss: 7.0989e-06 - digit2_loss: 1.6735e-05 - digit3_loss: 6.2130e-06 - digit4_loss: 4.0026e-04 - digit1_acc: 1.0000 - digit2_acc: 1.0000 - digit3_acc: 1.0000 - digit4_acc: 1.0000 - val_loss: 0.7840 - val_digit1_loss: 0.1876 - val_digit2_loss: 0.1681 - val_digit3_loss: 0.1460 - val_digit4_loss: 0.2823 - val_digit1_acc: 0.9600 - val_digit2_acc: 0.9733 - val_digit3_acc: 0.9767 - val_digit4_acc: 0.9400\n",
      "Epoch 139/300\n",
      "2001/2001 [==============================] - 21s 10ms/step - loss: 2.6426e-04 - digit1_loss: 6.3523e-05 - digit2_loss: 6.2524e-05 - digit3_loss: 3.8762e-05 - digit4_loss: 9.9448e-05 - digit1_acc: 1.0000 - digit2_acc: 1.0000 - digit3_acc: 1.0000 - digit4_acc: 1.0000 - val_loss: 0.8304 - val_digit1_loss: 0.2011 - val_digit2_loss: 0.1467 - val_digit3_loss: 0.1513 - val_digit4_loss: 0.3312 - val_digit1_acc: 0.9600 - val_digit2_acc: 0.9800 - val_digit3_acc: 0.9800 - val_digit4_acc: 0.9367\n",
      "Epoch 140/300\n",
      "2001/2001 [==============================] - 21s 11ms/step - loss: 1.8806e-04 - digit1_loss: 6.7822e-05 - digit2_loss: 5.5777e-05 - digit3_loss: 3.2612e-05 - digit4_loss: 3.1847e-05 - digit1_acc: 1.0000 - digit2_acc: 1.0000 - digit3_acc: 1.0000 - digit4_acc: 1.0000 - val_loss: 0.7089 - val_digit1_loss: 0.1532 - val_digit2_loss: 0.1550 - val_digit3_loss: 0.1143 - val_digit4_loss: 0.2865 - val_digit1_acc: 0.9700 - val_digit2_acc: 0.9800 - val_digit3_acc: 0.9833 - val_digit4_acc: 0.9400\n",
      "Epoch 141/300\n",
      "2001/2001 [==============================] - 21s 10ms/step - loss: 0.0014 - digit1_loss: 0.0012 - digit2_loss: 1.2679e-04 - digit3_loss: 4.2283e-05 - digit4_loss: 2.0225e-05 - digit1_acc: 0.9995 - digit2_acc: 1.0000 - digit3_acc: 1.0000 - digit4_acc: 1.0000 - val_loss: 0.6896 - val_digit1_loss: 0.1702 - val_digit2_loss: 0.1618 - val_digit3_loss: 0.1021 - val_digit4_loss: 0.2556 - val_digit1_acc: 0.9633 - val_digit2_acc: 0.9667 - val_digit3_acc: 0.9900 - val_digit4_acc: 0.9467\n",
      "Epoch 142/300\n",
      "2001/2001 [==============================] - 21s 11ms/step - loss: 6.0364e-04 - digit1_loss: 6.6116e-05 - digit2_loss: 4.2103e-04 - digit3_loss: 4.4313e-05 - digit4_loss: 7.2173e-05 - digit1_acc: 1.0000 - digit2_acc: 1.0000 - digit3_acc: 1.0000 - digit4_acc: 1.0000 - val_loss: 0.6781 - val_digit1_loss: 0.1513 - val_digit2_loss: 0.1471 - val_digit3_loss: 0.1208 - val_digit4_loss: 0.2590 - val_digit1_acc: 0.9767 - val_digit2_acc: 0.9700 - val_digit3_acc: 0.9800 - val_digit4_acc: 0.9500\n",
      "Epoch 143/300\n",
      "2001/2001 [==============================] - 21s 10ms/step - loss: 1.6765e-04 - digit1_loss: 1.8458e-05 - digit2_loss: 9.3242e-05 - digit3_loss: 5.2082e-05 - digit4_loss: 3.8718e-06 - digit1_acc: 1.0000 - digit2_acc: 1.0000 - digit3_acc: 1.0000 - digit4_acc: 1.0000 - val_loss: 0.6930 - val_digit1_loss: 0.1677 - val_digit2_loss: 0.1534 - val_digit3_loss: 0.1186 - val_digit4_loss: 0.2534 - val_digit1_acc: 0.9667 - val_digit2_acc: 0.9600 - val_digit3_acc: 0.9867 - val_digit4_acc: 0.9467\n",
      "Epoch 144/300\n",
      "2001/2001 [==============================] - 21s 11ms/step - loss: 0.0016 - digit1_loss: 0.0015 - digit2_loss: 6.8246e-06 - digit3_loss: 1.0358e-05 - digit4_loss: 1.2503e-04 - digit1_acc: 0.9990 - digit2_acc: 1.0000 - digit3_acc: 1.0000 - digit4_acc: 1.0000 - val_loss: 0.7292 - val_digit1_loss: 0.1988 - val_digit2_loss: 0.1514 - val_digit3_loss: 0.1184 - val_digit4_loss: 0.2607 - val_digit1_acc: 0.9567 - val_digit2_acc: 0.9667 - val_digit3_acc: 0.9800 - val_digit4_acc: 0.9467\n",
      "Epoch 145/300\n",
      "2001/2001 [==============================] - 21s 10ms/step - loss: 3.1206e-04 - digit1_loss: 3.5889e-05 - digit2_loss: 7.1914e-06 - digit3_loss: 2.5892e-04 - digit4_loss: 1.0059e-05 - digit1_acc: 1.0000 - digit2_acc: 1.0000 - digit3_acc: 1.0000 - digit4_acc: 1.0000 - val_loss: 0.6769 - val_digit1_loss: 0.1841 - val_digit2_loss: 0.1546 - val_digit3_loss: 0.0798 - val_digit4_loss: 0.2583 - val_digit1_acc: 0.9667 - val_digit2_acc: 0.9667 - val_digit3_acc: 0.9900 - val_digit4_acc: 0.9433\n",
      "Epoch 146/300\n",
      "2001/2001 [==============================] - 21s 10ms/step - loss: 0.0036 - digit1_loss: 1.5673e-04 - digit2_loss: 0.0035 - digit3_loss: 3.2592e-05 - digit4_loss: 6.5335e-06 - digit1_acc: 1.0000 - digit2_acc: 0.9990 - digit3_acc: 1.0000 - digit4_acc: 1.0000 - val_loss: 0.7920 - val_digit1_loss: 0.2135 - val_digit2_loss: 0.1618 - val_digit3_loss: 0.1114 - val_digit4_loss: 0.3054 - val_digit1_acc: 0.9633 - val_digit2_acc: 0.9700 - val_digit3_acc: 0.9833 - val_digit4_acc: 0.9400\n",
      "Epoch 147/300\n",
      "2001/2001 [==============================] - 21s 11ms/step - loss: 6.7803e-05 - digit1_loss: 1.4784e-05 - digit2_loss: 2.1558e-05 - digit3_loss: 1.7482e-05 - digit4_loss: 1.3980e-05 - digit1_acc: 1.0000 - digit2_acc: 1.0000 - digit3_acc: 1.0000 - digit4_acc: 1.0000 - val_loss: 0.7749 - val_digit1_loss: 0.2296 - val_digit2_loss: 0.1518 - val_digit3_loss: 0.1112 - val_digit4_loss: 0.2822 - val_digit1_acc: 0.9600 - val_digit2_acc: 0.9667 - val_digit3_acc: 0.9833 - val_digit4_acc: 0.9467\n",
      "Epoch 148/300\n",
      "2001/2001 [==============================] - 21s 10ms/step - loss: 9.8350e-04 - digit1_loss: 5.3828e-05 - digit2_loss: 3.7236e-04 - digit3_loss: 4.1952e-04 - digit4_loss: 1.3779e-04 - digit1_acc: 1.0000 - digit2_acc: 1.0000 - digit3_acc: 0.9995 - digit4_acc: 1.0000 - val_loss: 0.7157 - val_digit1_loss: 0.1878 - val_digit2_loss: 0.1344 - val_digit3_loss: 0.1229 - val_digit4_loss: 0.2707 - val_digit1_acc: 0.9667 - val_digit2_acc: 0.9667 - val_digit3_acc: 0.9833 - val_digit4_acc: 0.9467\n",
      "Epoch 149/300\n"
     ]
    },
    {
     "name": "stdout",
     "output_type": "stream",
     "text": [
      "2001/2001 [==============================] - 21s 11ms/step - loss: 8.8021e-04 - digit1_loss: 2.4365e-05 - digit2_loss: 4.0900e-04 - digit3_loss: 2.7333e-04 - digit4_loss: 1.7352e-04 - digit1_acc: 1.0000 - digit2_acc: 0.9995 - digit3_acc: 1.0000 - digit4_acc: 1.0000 - val_loss: 0.6909 - val_digit1_loss: 0.1834 - val_digit2_loss: 0.1265 - val_digit3_loss: 0.1097 - val_digit4_loss: 0.2714 - val_digit1_acc: 0.9667 - val_digit2_acc: 0.9733 - val_digit3_acc: 0.9867 - val_digit4_acc: 0.9433\n",
      "Epoch 150/300\n",
      "2001/2001 [==============================] - 21s 11ms/step - loss: 5.0385e-04 - digit1_loss: 1.4941e-05 - digit2_loss: 3.9125e-04 - digit3_loss: 7.1648e-06 - digit4_loss: 9.0488e-05 - digit1_acc: 1.0000 - digit2_acc: 0.9995 - digit3_acc: 1.0000 - digit4_acc: 1.0000 - val_loss: 0.6727 - val_digit1_loss: 0.1631 - val_digit2_loss: 0.1324 - val_digit3_loss: 0.1069 - val_digit4_loss: 0.2703 - val_digit1_acc: 0.9667 - val_digit2_acc: 0.9700 - val_digit3_acc: 0.9900 - val_digit4_acc: 0.9433\n",
      "Epoch 151/300\n",
      "2001/2001 [==============================] - 21s 11ms/step - loss: 4.6825e-05 - digit1_loss: 7.5010e-06 - digit2_loss: 5.8494e-06 - digit3_loss: 1.4836e-05 - digit4_loss: 1.8638e-05 - digit1_acc: 1.0000 - digit2_acc: 1.0000 - digit3_acc: 1.0000 - digit4_acc: 1.0000 - val_loss: 0.7408 - val_digit1_loss: 0.1866 - val_digit2_loss: 0.1393 - val_digit3_loss: 0.1251 - val_digit4_loss: 0.2899 - val_digit1_acc: 0.9567 - val_digit2_acc: 0.9767 - val_digit3_acc: 0.9833 - val_digit4_acc: 0.9400\n",
      "Epoch 152/300\n",
      "2001/2001 [==============================] - 21s 11ms/step - loss: 2.1444e-04 - digit1_loss: 1.2936e-04 - digit2_loss: 8.6326e-06 - digit3_loss: 6.0843e-05 - digit4_loss: 1.5605e-05 - digit1_acc: 1.0000 - digit2_acc: 1.0000 - digit3_acc: 1.0000 - digit4_acc: 1.0000 - val_loss: 0.7043 - val_digit1_loss: 0.1916 - val_digit2_loss: 0.1474 - val_digit3_loss: 0.1246 - val_digit4_loss: 0.2408 - val_digit1_acc: 0.9633 - val_digit2_acc: 0.9767 - val_digit3_acc: 0.9867 - val_digit4_acc: 0.9500\n",
      "Epoch 153/300\n",
      "2001/2001 [==============================] - 21s 10ms/step - loss: 7.4228e-04 - digit1_loss: 6.8397e-04 - digit2_loss: 7.0942e-06 - digit3_loss: 9.1133e-07 - digit4_loss: 5.0299e-05 - digit1_acc: 0.9995 - digit2_acc: 1.0000 - digit3_acc: 1.0000 - digit4_acc: 1.0000 - val_loss: 0.6889 - val_digit1_loss: 0.1862 - val_digit2_loss: 0.1509 - val_digit3_loss: 0.1159 - val_digit4_loss: 0.2360 - val_digit1_acc: 0.9600 - val_digit2_acc: 0.9667 - val_digit3_acc: 0.9867 - val_digit4_acc: 0.9533\n",
      "Epoch 154/300\n",
      "2001/2001 [==============================] - 21s 11ms/step - loss: 2.0280e-04 - digit1_loss: 1.8255e-04 - digit2_loss: 5.3895e-06 - digit3_loss: 1.3255e-05 - digit4_loss: 1.6067e-06 - digit1_acc: 1.0000 - digit2_acc: 1.0000 - digit3_acc: 1.0000 - digit4_acc: 1.0000 - val_loss: 0.6974 - val_digit1_loss: 0.1930 - val_digit2_loss: 0.1353 - val_digit3_loss: 0.1135 - val_digit4_loss: 0.2555 - val_digit1_acc: 0.9667 - val_digit2_acc: 0.9733 - val_digit3_acc: 0.9900 - val_digit4_acc: 0.9400\n",
      "Epoch 155/300\n",
      "2001/2001 [==============================] - 21s 11ms/step - loss: 2.4861e-04 - digit1_loss: 1.1772e-05 - digit2_loss: 2.1448e-04 - digit3_loss: 2.0262e-05 - digit4_loss: 2.0987e-06 - digit1_acc: 1.0000 - digit2_acc: 1.0000 - digit3_acc: 1.0000 - digit4_acc: 1.0000 - val_loss: 0.7369 - val_digit1_loss: 0.2102 - val_digit2_loss: 0.1340 - val_digit3_loss: 0.1209 - val_digit4_loss: 0.2718 - val_digit1_acc: 0.9500 - val_digit2_acc: 0.9800 - val_digit3_acc: 0.9833 - val_digit4_acc: 0.9400\n",
      "Epoch 156/300\n",
      "2001/2001 [==============================] - 21s 11ms/step - loss: 8.7037e-05 - digit1_loss: 5.6728e-06 - digit2_loss: 2.4482e-05 - digit3_loss: 3.9543e-05 - digit4_loss: 1.7338e-05 - digit1_acc: 1.0000 - digit2_acc: 1.0000 - digit3_acc: 1.0000 - digit4_acc: 1.0000 - val_loss: 0.7238 - val_digit1_loss: 0.2057 - val_digit2_loss: 0.1443 - val_digit3_loss: 0.1325 - val_digit4_loss: 0.2413 - val_digit1_acc: 0.9567 - val_digit2_acc: 0.9767 - val_digit3_acc: 0.9833 - val_digit4_acc: 0.9533\n",
      "Epoch 157/300\n",
      "2001/2001 [==============================] - 21s 11ms/step - loss: 4.0643e-05 - digit1_loss: 1.0221e-05 - digit2_loss: 1.1769e-05 - digit3_loss: 1.3008e-05 - digit4_loss: 5.6462e-06 - digit1_acc: 1.0000 - digit2_acc: 1.0000 - digit3_acc: 1.0000 - digit4_acc: 1.0000 - val_loss: 0.6723 - val_digit1_loss: 0.1840 - val_digit2_loss: 0.1277 - val_digit3_loss: 0.1142 - val_digit4_loss: 0.2463 - val_digit1_acc: 0.9633 - val_digit2_acc: 0.9800 - val_digit3_acc: 0.9867 - val_digit4_acc: 0.9567\n",
      "Epoch 158/300\n",
      "2001/2001 [==============================] - 21s 11ms/step - loss: 6.8238e-04 - digit1_loss: 4.8047e-06 - digit2_loss: 2.5851e-04 - digit3_loss: 1.3219e-05 - digit4_loss: 4.0585e-04 - digit1_acc: 1.0000 - digit2_acc: 1.0000 - digit3_acc: 1.0000 - digit4_acc: 0.9995 - val_loss: 0.6734 - val_digit1_loss: 0.1670 - val_digit2_loss: 0.1445 - val_digit3_loss: 0.1102 - val_digit4_loss: 0.2516 - val_digit1_acc: 0.9667 - val_digit2_acc: 0.9767 - val_digit3_acc: 0.9900 - val_digit4_acc: 0.9467\n",
      "Epoch 159/300\n",
      "2001/2001 [==============================] - 21s 11ms/step - loss: 6.4966e-04 - digit1_loss: 1.0210e-04 - digit2_loss: 4.4116e-04 - digit3_loss: 3.9448e-06 - digit4_loss: 1.0245e-04 - digit1_acc: 1.0000 - digit2_acc: 0.9995 - digit3_acc: 1.0000 - digit4_acc: 1.0000 - val_loss: 0.7071 - val_digit1_loss: 0.1770 - val_digit2_loss: 0.1632 - val_digit3_loss: 0.1173 - val_digit4_loss: 0.2495 - val_digit1_acc: 0.9667 - val_digit2_acc: 0.9700 - val_digit3_acc: 0.9867 - val_digit4_acc: 0.9467\n",
      "Epoch 160/300\n",
      "2001/2001 [==============================] - 21s 10ms/step - loss: 1.1582e-04 - digit1_loss: 2.3836e-05 - digit2_loss: 7.0814e-05 - digit3_loss: 1.1784e-05 - digit4_loss: 9.3895e-06 - digit1_acc: 1.0000 - digit2_acc: 1.0000 - digit3_acc: 1.0000 - digit4_acc: 1.0000 - val_loss: 0.6936 - val_digit1_loss: 0.1509 - val_digit2_loss: 0.1525 - val_digit3_loss: 0.1250 - val_digit4_loss: 0.2651 - val_digit1_acc: 0.9733 - val_digit2_acc: 0.9733 - val_digit3_acc: 0.9867 - val_digit4_acc: 0.9533\n"
     ]
    }
   ],
   "source": [
    "history = my_model.fit_generator(data_generator(\"real_train\"), samples_per_epoch=len(train_datas), epochs=300, validation_data=data_generator(validate_folder_path), validation_steps=len(val_datas), callbacks=[early_stopping])"
   ]
  },
  {
   "cell_type": "code",
   "execution_count": null,
   "metadata": {},
   "outputs": [],
   "source": []
  },
  {
   "cell_type": "code",
   "execution_count": 37,
   "metadata": {},
   "outputs": [],
   "source": [
    "# history = my_model.fit_generator(data_gen_dynamic(128), samples_per_epoch=256, epochs=300, validation_data=data_generator(validate_folder_path), validation_steps=len(val_datas), callbacks=[early_stopping])"
   ]
  },
  {
   "cell_type": "code",
   "execution_count": 27,
   "metadata": {},
   "outputs": [],
   "source": [
    "# history = my_model.fit_generator(data_generator(train_folder_path), samples_per_epoch=len(train_datas), epochs=100, validation_data=data_generator(validate_folder_path), validation_steps=len(val_datas))"
   ]
  },
  {
   "cell_type": "code",
   "execution_count": 28,
   "metadata": {},
   "outputs": [],
   "source": [
    "# history = my_model.fit(train_data, train_label, validation_data=(val_data, val_label), batch_size=32, epochs=100, callbacks=[early_stopping])"
   ]
  },
  {
   "cell_type": "code",
   "execution_count": 20,
   "metadata": {},
   "outputs": [],
   "source": [
    "acc = (np.array(history.history['digit1_acc'])+np.array(history.history['digit2_acc'])+np.array(history.history['digit3_acc'])+np.array(history.history['digit4_acc']))/4\n",
    "val_acc = (np.array(history.history['val_digit1_acc'])+np.array(history.history['val_digit2_acc'])+np.array(history.history['val_digit3_acc'])+np.array(history.history['val_digit4_acc']))/4"
   ]
  },
  {
   "cell_type": "code",
   "execution_count": 21,
   "metadata": {},
   "outputs": [
    {
     "data": {
      "image/png": "[encoded data removed]",
      "text/plain": [
       "<Figure size 432x288 with 1 Axes>"
      ]
     },
     "metadata": {
      "needs_background": "light"
     },
     "output_type": "display_data"
    }
   ],
   "source": [
    "# plt.plot(history.history['digit1_acc'])\n",
    "# plt.plot(history.history['val_digit1_acc'])\n",
    "# plt.plot(history.history['digit2_acc'])\n",
    "# plt.plot(history.history['val_digit2_acc'])\n",
    "# plt.plot(history.history['digit3_acc'])\n",
    "# plt.plot(history.history['val_digit3_acc'])\n",
    "# plt.plot(history.history['digit4_acc'])\n",
    "# plt.plot(history.history['val_digit4_acc'])\n",
    "plt.plot(acc)\n",
    "plt.plot(val_acc)\n",
    "\n",
    "plt.title('model accuracy')\n",
    "plt.ylabel('accuracy')\n",
    "plt.xlabel('epoch')\n",
    "plt.legend(['train', 'test'], loc='upper left')\n",
    "plt.show()"
   ]
  },
  {
   "cell_type": "code",
   "execution_count": 22,
   "metadata": {},
   "outputs": [
    {
     "data": {
      "image/png": "[encoded data removed]",
      "text/plain": [
       "<Figure size 432x288 with 1 Axes>"
      ]
     },
     "metadata": {
      "needs_background": "light"
     },
     "output_type": "display_data"
    }
   ],
   "source": [
    "plt.plot(history.history['loss'])\n",
    "plt.plot(history.history['val_loss'])\n",
    "plt.title('model loss')\n",
    "plt.ylabel('loss')\n",
    "plt.xlabel('epoch')\n",
    "plt.legend(['train', 'test'], loc='upper left')\n",
    "plt.show()"
   ]
  },
  {
   "cell_type": "code",
   "execution_count": 23,
   "metadata": {},
   "outputs": [],
   "source": [
    "my_model.save('my_model_20190201.h5')"
   ]
  },
  {
   "cell_type": "code",
   "execution_count": null,
   "metadata": {},
   "outputs": [],
   "source": [
    "predict_test = my_model.predict(np.asarray([train_data[1]]))\n",
    "for item in predict_test:\n",
    "    index = np.argmax(item)\n",
    "    print(alphabet[index])"
   ]
  },
  {
   "cell_type": "code",
   "execution_count": 53,
   "metadata": {},
   "outputs": [
    {
     "name": "stderr",
     "output_type": "stream",
     "text": [
      "100%|██████████| 1/1 [00:00<00:00, 1021.01it/s]"
     ]
    },
    {
     "name": "stdout",
     "output_type": "stream",
     "text": [
      "Q\n",
      "4\n",
      "P\n",
      "Y\n"
     ]
    },
    {
     "name": "stderr",
     "output_type": "stream",
     "text": [
      "\n"
     ]
    }
   ],
   "source": [
    "test_data_set = preprocessing(\"test_set\")\n",
    "result =  my_model.predict(test_data_set)\n",
    "for item in result:\n",
    "    index = np.argmax(item)\n",
    "    print(alphabet[index])"
   ]
  },
  {
   "cell_type": "code",
   "execution_count": 51,
   "metadata": {
    "scrolled": true
   },
   "outputs": [
    {
     "data": {
      "text/plain": [
       "(1, 51, 137, 3)"
      ]
     },
     "execution_count": 51,
     "metadata": {},
     "output_type": "execute_result"
    }
   ],
   "source": [
    "test_data_set.shape"
   ]
  }
 ],
 "metadata": {
  "kernelspec": {
   "display_name": "Python 3",
   "language": "python",
   "name": "python3"
  },
  "language_info": {
   "codemirror_mode": {
    "name": "ipython",
    "version": 3
   },
   "file_extension": ".py",
   "mimetype": "text/x-python",
   "name": "python",
   "nbconvert_exporter": "python",
   "pygments_lexer": "ipython3",
   "version": "3.5.2"
  }
 },
 "nbformat": 4,
 "nbformat_minor": 2
}
