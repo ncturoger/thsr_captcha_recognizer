{
 "cells": [
  {
   "cell_type": "code",
   "execution_count": 1,
   "metadata": {},
   "outputs": [
    {
     "name": "stderr",
     "output_type": "stream",
     "text": [
      "Using TensorFlow backend.\n"
     ]
    }
   ],
   "source": [
    "from keras.models import load_model\n",
    "from tqdm import tqdm\n",
    "import os\n",
    "import numpy as np\n",
    "from keras.preprocessing.image import array_to_img, img_to_array, load_img"
   ]
  },
  {
   "cell_type": "code",
   "execution_count": 2,
   "metadata": {},
   "outputs": [],
   "source": [
    "alphabet = '0123456789ABCDEFGHIJKLMNOPQRSTUVWXYZ'\n",
    "alphabet_to_num = dict()\n",
    "num = 0\n",
    "for al in alphabet:\n",
    "    alphabet_to_num[al] = num\n",
    "    num += 1"
   ]
  },
  {
   "cell_type": "code",
   "execution_count": 3,
   "metadata": {},
   "outputs": [],
   "source": [
    "model = load_model('my_model_20190201.h5')"
   ]
  },
  {
   "cell_type": "code",
   "execution_count": 4,
   "metadata": {},
   "outputs": [],
   "source": [
    "def preprocessing(path):\n",
    "    datas = os.listdir(path)\n",
    "    processed_data = np.stack([img_to_array(load_img(path + '/' + data).resize((137,51)))/255.0 for data in tqdm(datas)])\n",
    "    return processed_data"
   ]
  },
  {
   "cell_type": "code",
   "execution_count": 14,
   "metadata": {},
   "outputs": [
    {
     "name": "stderr",
     "output_type": "stream",
     "text": [
      "100%|██████████| 1/1 [00:00<00:00,  7.46it/s]\n"
     ]
    }
   ],
   "source": [
    "test_data_set = preprocessing(\"test_set\")"
   ]
  },
  {
   "cell_type": "code",
   "execution_count": 15,
   "metadata": {},
   "outputs": [
    {
     "name": "stdout",
     "output_type": "stream",
     "text": [
      "[array([[1.9762922e-12, 3.5064470e-13, 4.3349380e-07, 7.9517989e-08,\n",
      "        1.2673439e-07, 4.6527479e-08, 3.3015047e-14, 3.7698200e-13,\n",
      "        7.3430465e-14, 9.9999797e-01, 4.3765000e-12, 7.8089174e-13,\n",
      "        1.0805543e-08, 6.3338847e-13, 2.3822589e-12, 1.7287262e-10,\n",
      "        6.0362753e-14, 1.4668863e-12, 6.0491401e-13, 1.3158334e-13,\n",
      "        5.4397873e-09, 2.1106076e-13, 2.6722651e-09, 1.8096623e-10,\n",
      "        4.7065165e-15, 2.3203916e-07, 9.0464954e-07, 3.4347508e-10,\n",
      "        1.7686651e-14, 5.9408783e-10, 7.3966067e-13, 1.2759620e-14,\n",
      "        2.4107758e-13, 8.8900247e-13, 1.2887905e-07, 4.1784115e-12]],\n",
      "      dtype=float32), array([[6.2737753e-09, 2.6428331e-09, 9.8276669e-03, 5.0218962e-02,\n",
      "        8.5485430e-05, 9.3836999e-01, 5.6810232e-09, 6.0509983e-04,\n",
      "        1.2015795e-07, 4.4259257e-05, 3.6201018e-07, 7.9534351e-07,\n",
      "        4.2990614e-06, 6.7399863e-10, 5.7656097e-10, 1.6521545e-07,\n",
      "        8.4974729e-09, 6.6631415e-04, 2.3127776e-10, 2.0607862e-09,\n",
      "        7.7369670e-08, 4.0484602e-09, 4.6672990e-06, 5.9464106e-05,\n",
      "        5.9638894e-09, 7.7825942e-05, 1.8120475e-06, 1.1212419e-06,\n",
      "        1.0379849e-09, 2.9315614e-05, 7.2749967e-10, 8.9034069e-09,\n",
      "        3.8536769e-09, 1.5357139e-09, 1.2562505e-07, 2.1192136e-06]],\n",
      "      dtype=float32), array([[6.75701092e-11, 5.28355915e-10, 4.05342234e-06, 2.04733230e-09,\n",
      "        2.09086877e-03, 1.79080717e-09, 1.41634848e-12, 1.09116174e-02,\n",
      "        2.12134837e-10, 2.19584905e-07, 1.14025829e-08, 6.43134782e-11,\n",
      "        2.77582775e-08, 1.35261496e-10, 3.24532241e-11, 7.22966007e-08,\n",
      "        3.76501131e-12, 2.74768190e-05, 2.27788396e-11, 1.14084880e-10,\n",
      "        7.32656417e-07, 1.00669525e-11, 9.48911488e-01, 5.64681500e-07,\n",
      "        2.70060905e-12, 5.72941659e-08, 5.59256738e-11, 1.77895743e-08,\n",
      "        3.06937142e-10, 5.64116842e-09, 3.80389220e-10, 3.14455972e-09,\n",
      "        2.63024810e-11, 8.71676675e-10, 3.77992578e-02, 2.53542559e-04]],\n",
      "      dtype=float32), array([[8.2651146e-15, 4.9019575e-14, 1.5057934e-06, 3.0676699e-08,\n",
      "        1.1306575e-11, 4.7472554e-10, 1.5548564e-12, 4.4635609e-08,\n",
      "        1.5615291e-15, 1.9754487e-12, 1.1594031e-08, 9.3430546e-14,\n",
      "        8.8373486e-09, 2.6879898e-13, 9.5714757e-15, 2.3719902e-12,\n",
      "        1.4918238e-12, 4.5146429e-08, 2.9816664e-14, 7.6409385e-14,\n",
      "        4.7703635e-14, 4.2663804e-15, 1.5314770e-13, 2.7333340e-11,\n",
      "        1.6525825e-14, 3.3043190e-08, 9.9999833e-01, 5.9523220e-11,\n",
      "        3.5717588e-15, 6.1332948e-08, 4.3314449e-14, 5.1220035e-14,\n",
      "        9.6857057e-15, 2.3826037e-13, 8.5921426e-12, 5.2608590e-10]],\n",
      "      dtype=float32)]\n"
     ]
    }
   ],
   "source": [
    "result = model.predict(test_data_set)\n",
    "print(result)"
   ]
  },
  {
   "cell_type": "code",
   "execution_count": 18,
   "metadata": {},
   "outputs": [
    {
     "name": "stdout",
     "output_type": "stream",
     "text": [
      "9\n",
      "5\n",
      "M\n",
      "Q\n"
     ]
    }
   ],
   "source": [
    "for item in result:\n",
    "    index = np.argmax(item)\n",
    "    print(alphabet[index])"
   ]
  },
  {
   "cell_type": "code",
   "execution_count": 5,
   "metadata": {},
   "outputs": [],
   "source": [
    "def preprocessing_image(file_path):\n",
    "    processed_data = np.stack([img_to_array(load_img(file_path).resize((137,51)))/255.0])\n",
    "    return processed_data"
   ]
  },
  {
   "cell_type": "code",
   "execution_count": 6,
   "metadata": {},
   "outputs": [
    {
     "name": "stderr",
     "output_type": "stream",
     "text": [
      "100%|██████████| 3140/3140 [00:08<00:00, 380.81it/s]\n"
     ]
    }
   ],
   "source": [
    "files = os.listdir(\"rename\")\n",
    "# print(files)\n",
    "for img in tqdm(files):\n",
    "    processed_img = preprocessing_image(os.path.join(\"rename\", img))\n",
    "    result = model.predict(processed_img)\n",
    "    label = \"\"\n",
    "    for item in result:\n",
    "        index = np.argmax(item)\n",
    "        label += alphabet[index]\n",
    "    id = 1\n",
    "    rename = 'labeled/{}.png'.format(label)\n",
    "    while os.path.isfile(rename):\n",
    "        rename = 'labeled/{}_{}.png'.format(label, id)\n",
    "        id += 1\n",
    "    os.rename(os.path.join(\"rename\", img), rename)\n",
    "    "
   ]
  },
  {
   "cell_type": "code",
   "execution_count": null,
   "metadata": {},
   "outputs": [],
   "source": []
  },
  {
   "cell_type": "code",
   "execution_count": null,
   "metadata": {},
   "outputs": [],
   "source": []
  }
 ],
 "metadata": {
  "kernelspec": {
   "display_name": "Python 3",
   "language": "python",
   "name": "python3"
  },
  "language_info": {
   "codemirror_mode": {
    "name": "ipython",
    "version": 3
   },
   "file_extension": ".py",
   "mimetype": "text/x-python",
   "name": "python",
   "nbconvert_exporter": "python",
   "pygments_lexer": "ipython3",
   "version": "3.5.2"
  }
 },
 "nbformat": 4,
 "nbformat_minor": 2
}
