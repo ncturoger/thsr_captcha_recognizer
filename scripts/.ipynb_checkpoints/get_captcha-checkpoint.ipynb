{
 "cells": [
  {
   "cell_type": "code",
   "execution_count": null,
   "metadata": {},
   "outputs": [],
   "source": [
    "from bs4 import BeautifulSoup\n",
    "import requests\n",
    "import urllib.parse as urlparser\n",
    "import os\n",
    "from tqdm import trange\n",
    "folder_path = \"hsr_captcha_test\"\n",
    "url = \"https://irs.thsrc.com.tw/IMINT/\"\n",
    "link = urlparser.urlsplit(url)\n",
    "host = \"{}://{}\".format(link.scheme, link.netloc)\n",
    "\n",
    "if not os.path.exists(folder_path):\n",
    "    os.makedirs(folder_path)\n",
    "    \n",
    "def download_captch():\n",
    "    with requests.Session() as s:\n",
    "        r = s.get(url)\n",
    "        content = r.text\n",
    "    \n",
    "        soup = BeautifulSoup(content, \"lxml\")\n",
    "        k = soup.find(\"img\")[\"src\"]\n",
    "    \n",
    "        img_url = host + k\n",
    "        img_response = s.get(img_url)\n",
    "    \n",
    "        id = len(os.listdir(folder_path))\n",
    "        with open(os.path.join(folder_path, str(id) + '.png'), 'wb') as f:\n",
    "            f.write(img_response.content)\n",
    "\n",
    "for i in trange(100):\n",
    "    download_captch()\n"
   ]
  }
 ],
 "metadata": {
  "kernelspec": {
   "display_name": "Python 3",
   "language": "python",
   "name": "python3"
  },
  "language_info": {
   "codemirror_mode": {
    "name": "ipython",
    "version": 3
   },
   "file_extension": ".py",
   "mimetype": "text/x-python",
   "name": "python",
   "nbconvert_exporter": "python",
   "pygments_lexer": "ipython3",
   "version": "3.5.2"
  }
 },
 "nbformat": 4,
 "nbformat_minor": 2
}
